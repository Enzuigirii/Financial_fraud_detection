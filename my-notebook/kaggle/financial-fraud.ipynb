{
  "nbformat": 4,
  "nbformat_minor": 0,
  "metadata": {
    "colab": {
      "name": "FinancialFraud.ipynb",
      "provenance": [],
      "collapsed_sections": []
    },
    "kernelspec": {
      "display_name": "Python 3",
      "name": "python3"
    }
  },
  "cells": [
    {
      "cell_type": "markdown",
      "metadata": {
        "id": "UC_AsKChA6zv"
      },
      "source": [
        "# Financial Datasets For Fraud Detection\n",
        "\n",
        "This synthetic dataset is scaled down 1/4 of the original dataset. The original logs were provided by a multinational company, who is the provider of the mobile financial service which is currently running in more than 14 countries all around the world. Dataset is based on a sample of real transactions extracted from one month of financial logs from a mobile money service implemented in an African country.\n",
        "\n",
        "[Dataset](https://www.kaggle.com/ntnu-testimon/paysim1) taken from the Kaggle\n",
        "\n",
        "Headers Description:\n",
        "\n",
        "step - maps a unit of time in the real world. In this case 1 step is 1 hour of time.\n",
        "\n",
        "type - CASH-IN, CASH-OUT, DEBIT, PAYMENT and TRANSFER.\n",
        "\n",
        "amount - amount of the transaction in local currency.\n",
        "\n",
        "nameOrig - customer who started the transaction\n",
        "\n",
        "oldbalanceOrg - initial balance before the transaction\n",
        "\n",
        "newbalanceOrig - new balance after the transaction\n",
        "\n",
        "nameDest - customer who is the recipient of the transaction\n",
        "\n",
        "oldbalanceDest - initial balance recipient before the transaction. Note that there is not information for customers that start with M (Merchants).\n",
        "\n",
        "newbalanceDest - new balance recipient after the transaction. Note that there is not information for customers that start with M (Merchants).\n",
        "\n",
        "isFraud - This is the transactions made by the fraudulent agents inside the simulation. In this specific dataset the fraudulent behavior of the agents aims to profit by taking control or customers accounts and try to empty the funds by transferring to another account and then cashing out of the system.\n",
        "\n",
        "isFlaggedFraud - The business model aims to control massive transfers from one account to another and flags illegal attempts. An illegal attempt in this dataset is an attempt to transfer more than 200.000 in a single transaction."
      ]
    },
    {
      "cell_type": "code",
      "metadata": {
        "id": "lyB0a-Av2QUR"
      },
      "source": [
        "import numpy as np\n",
        "seed = 42\n",
        "np.random.seed(seed)\n",
        "\n",
        "import pandas as pd\n",
        "import seaborn as sns \n",
        "import matplotlib.pyplot as plt \n",
        "import time\n",
        "\n",
        "from sklearn.linear_model import LogisticRegression\n",
        "from sklearn.ensemble import AdaBoostClassifier, BaggingClassifier\n",
        "from sklearn.ensemble import RandomForestClassifier\n",
        "from xgboost.sklearn import XGBClassifier\n",
        "from lightgbm.sklearn import LGBMClassifier\n",
        "from catboost import CatBoostClassifier\n",
        "\n",
        "from sklearn.model_selection import train_test_split, learning_curve\n",
        "from sklearn.model_selection import GridSearchCV\n",
        "from sklearn.preprocessing import StandardScaler\n",
        "from sklearn.preprocessing import OneHotEncoder\n",
        "from sklearn.metrics import confusion_matrix  \n",
        "from sklearn.metrics import precision_score, accuracy_score, f1_score\n",
        "from sklearn.metrics import average_precision_score, recall_score , matthews_corrcoef"
      ],
      "execution_count": 2,
      "outputs": []
    },
    {
      "cell_type": "code",
      "metadata": {
        "colab": {
          "base_uri": "https://localhost:8080/",
          "height": 224
        },
        "id": "v-X0_hzc-cFK",
        "outputId": "a6525b02-8415-4158-821c-d7d5e7b317c4"
      },
      "source": [
        "df = pd.read_csv('/content/drive/My Drive/archive (1).zip')\n",
        "df.head()"
      ],
      "execution_count": null,
      "outputs": [
        {
          "output_type": "execute_result",
          "data": {
            "text/html": [
              "<div>\n",
              "<style scoped>\n",
              "    .dataframe tbody tr th:only-of-type {\n",
              "        vertical-align: middle;\n",
              "    }\n",
              "\n",
              "    .dataframe tbody tr th {\n",
              "        vertical-align: top;\n",
              "    }\n",
              "\n",
              "    .dataframe thead th {\n",
              "        text-align: right;\n",
              "    }\n",
              "</style>\n",
              "<table border=\"1\" class=\"dataframe\">\n",
              "  <thead>\n",
              "    <tr style=\"text-align: right;\">\n",
              "      <th></th>\n",
              "      <th>step</th>\n",
              "      <th>type</th>\n",
              "      <th>amount</th>\n",
              "      <th>nameOrig</th>\n",
              "      <th>oldbalanceOrg</th>\n",
              "      <th>newbalanceOrig</th>\n",
              "      <th>nameDest</th>\n",
              "      <th>oldbalanceDest</th>\n",
              "      <th>newbalanceDest</th>\n",
              "      <th>isFraud</th>\n",
              "      <th>isFlaggedFraud</th>\n",
              "    </tr>\n",
              "  </thead>\n",
              "  <tbody>\n",
              "    <tr>\n",
              "      <th>0</th>\n",
              "      <td>1</td>\n",
              "      <td>PAYMENT</td>\n",
              "      <td>9839.64</td>\n",
              "      <td>C1231006815</td>\n",
              "      <td>170136.0</td>\n",
              "      <td>160296.36</td>\n",
              "      <td>M1979787155</td>\n",
              "      <td>0.0</td>\n",
              "      <td>0.0</td>\n",
              "      <td>0</td>\n",
              "      <td>0</td>\n",
              "    </tr>\n",
              "    <tr>\n",
              "      <th>1</th>\n",
              "      <td>1</td>\n",
              "      <td>PAYMENT</td>\n",
              "      <td>1864.28</td>\n",
              "      <td>C1666544295</td>\n",
              "      <td>21249.0</td>\n",
              "      <td>19384.72</td>\n",
              "      <td>M2044282225</td>\n",
              "      <td>0.0</td>\n",
              "      <td>0.0</td>\n",
              "      <td>0</td>\n",
              "      <td>0</td>\n",
              "    </tr>\n",
              "    <tr>\n",
              "      <th>2</th>\n",
              "      <td>1</td>\n",
              "      <td>TRANSFER</td>\n",
              "      <td>181.00</td>\n",
              "      <td>C1305486145</td>\n",
              "      <td>181.0</td>\n",
              "      <td>0.00</td>\n",
              "      <td>C553264065</td>\n",
              "      <td>0.0</td>\n",
              "      <td>0.0</td>\n",
              "      <td>1</td>\n",
              "      <td>0</td>\n",
              "    </tr>\n",
              "    <tr>\n",
              "      <th>3</th>\n",
              "      <td>1</td>\n",
              "      <td>CASH_OUT</td>\n",
              "      <td>181.00</td>\n",
              "      <td>C840083671</td>\n",
              "      <td>181.0</td>\n",
              "      <td>0.00</td>\n",
              "      <td>C38997010</td>\n",
              "      <td>21182.0</td>\n",
              "      <td>0.0</td>\n",
              "      <td>1</td>\n",
              "      <td>0</td>\n",
              "    </tr>\n",
              "    <tr>\n",
              "      <th>4</th>\n",
              "      <td>1</td>\n",
              "      <td>PAYMENT</td>\n",
              "      <td>11668.14</td>\n",
              "      <td>C2048537720</td>\n",
              "      <td>41554.0</td>\n",
              "      <td>29885.86</td>\n",
              "      <td>M1230701703</td>\n",
              "      <td>0.0</td>\n",
              "      <td>0.0</td>\n",
              "      <td>0</td>\n",
              "      <td>0</td>\n",
              "    </tr>\n",
              "  </tbody>\n",
              "</table>\n",
              "</div>"
            ],
            "text/plain": [
              "   step      type    amount  ... newbalanceDest  isFraud  isFlaggedFraud\n",
              "0     1   PAYMENT   9839.64  ...            0.0        0               0\n",
              "1     1   PAYMENT   1864.28  ...            0.0        0               0\n",
              "2     1  TRANSFER    181.00  ...            0.0        1               0\n",
              "3     1  CASH_OUT    181.00  ...            0.0        1               0\n",
              "4     1   PAYMENT  11668.14  ...            0.0        0               0\n",
              "\n",
              "[5 rows x 11 columns]"
            ]
          },
          "metadata": {
            "tags": []
          },
          "execution_count": 6
        }
      ]
    },
    {
      "cell_type": "code",
      "metadata": {
        "id": "rjt2C-9W3dK8"
      },
      "source": [
        "fraud = df[df.isFraud == 1]\n",
        "not_fraud = df[df.isFraud == 0]\n",
        "flagged_fraud = fraud[fraud.isFlaggedFraud == 1]"
      ],
      "execution_count": null,
      "outputs": []
    },
    {
      "cell_type": "code",
      "metadata": {
        "colab": {
          "base_uri": "https://localhost:8080/"
        },
        "id": "qiFWrD0bwKih",
        "outputId": "143ea8ef-a791-47d7-aa6b-5b5ff378f9ce"
      },
      "source": [
        "print('Does the Dataframe have Nan?:', df.isnull().values.any())"
      ],
      "execution_count": null,
      "outputs": [
        {
          "output_type": "stream",
          "text": [
            "Does the Dataframe have Nan?: False\n"
          ],
          "name": "stdout"
        }
      ]
    },
    {
      "cell_type": "code",
      "metadata": {
        "colab": {
          "base_uri": "https://localhost:8080/"
        },
        "id": "iOqGw1LDoP4X",
        "outputId": "b4c53ab0-1523-482d-ef81-1cd68d92cf39"
      },
      "source": [
        "df.groupby(['type', 'isFraud', 'isFlaggedFraud']).count()['step']"
      ],
      "execution_count": null,
      "outputs": [
        {
          "output_type": "execute_result",
          "data": {
            "text/plain": [
              "type      isFraud  isFlaggedFraud\n",
              "CASH_IN   0        0                 1399284\n",
              "CASH_OUT  0        0                 2233384\n",
              "          1        0                    4116\n",
              "DEBIT     0        0                   41432\n",
              "PAYMENT   0        0                 2151495\n",
              "TRANSFER  0        0                  528812\n",
              "          1        0                    4081\n",
              "                   1                      16\n",
              "Name: step, dtype: int64"
            ]
          },
          "metadata": {
            "tags": []
          },
          "execution_count": 9
        }
      ]
    },
    {
      "cell_type": "code",
      "metadata": {
        "colab": {
          "base_uri": "https://localhost:8080/"
        },
        "id": "gNVgW1SfddDc",
        "outputId": "e2923f88-ab4d-4c67-f003-eb86423e059f"
      },
      "source": [
        "print('Fraud percentage:', len(fraud)/len(not_fraud) * 100)\n",
        "print('Percentage of FlaggedFraud:', len(flagged_fraud)/len(df) * 100)\n",
        "print('Total FlaggedFraud:', len(flagged_fraud))"
      ],
      "execution_count": null,
      "outputs": [
        {
          "output_type": "stream",
          "text": [
            "Fraud percentage: 0.129248881917699\n",
            "Percentage of FlaggedFraud: 0.000251468734577894\n",
            "Total FlaggedFraud: 16\n"
          ],
          "name": "stdout"
        }
      ]
    },
    {
      "cell_type": "code",
      "metadata": {
        "colab": {
          "base_uri": "https://localhost:8080/",
          "height": 451
        },
        "id": "CL_0gYb9-QB5",
        "outputId": "9abf2553-910b-46da-e5a5-948bdf75ec0d"
      },
      "source": [
        "c_matrix = df.corr()\n",
        "plt.figure(figsize = (9, 6)) \n",
        "sns.heatmap(c_matrix, vmin=-1, annot=True, fmt='.1g', square=True) \n",
        "plt.show()"
      ],
      "execution_count": null,
      "outputs": [
        {
          "output_type": "display_data",
          "data": {
            "image/png": "[encoded data removed]",
            "text/plain": [
              "<Figure size 648x432 with 2 Axes>"
            ]
          },
          "metadata": {
            "tags": [],
            "needs_background": "light"
          }
        }
      ]
    },
    {
      "cell_type": "code",
      "metadata": {
        "colab": {
          "base_uri": "https://localhost:8080/"
        },
        "id": "C-WrQOlg-DuS",
        "outputId": "c486bb46-0584-4cb8-eb15-5cd566f8c09a"
      },
      "source": [
        "print('number of transfers with amount of money more than 200000:', len(fraud[(fraud.amount > 200000) & (fraud.type == 'TRANSFER')]))"
      ],
      "execution_count": null,
      "outputs": [
        {
          "output_type": "stream",
          "text": [
            "number of transfers with amount of money more than 200000: 2740\n"
          ],
          "name": "stdout"
        }
      ]
    },
    {
      "cell_type": "markdown",
      "metadata": {
        "id": "G0MO7uHNAK0R"
      },
      "source": [
        "Based on the description, it can be seen that FlaggedFraud should have been marked in more cases. It also looks like FlaggedFraud is not associated with any of the dependent variables. And it has an extremely low percentage of observations.\n",
        "Therefore, I assume  that I can remove FlaggedFraud from the dataset without losing information. (переписать)"
      ]
    },
    {
      "cell_type": "code",
      "metadata": {
        "colab": {
          "base_uri": "https://localhost:8080/"
        },
        "id": "_S0VEKLcwYj_",
        "outputId": "15cd7454-4d62-40a6-dea9-0889cb0e9944"
      },
      "source": [
        "print(*fraud.type.unique())\n",
        "print('number of fraudulent transfers:', len(fraud[fraud.type == 'TRANSFER']))\n",
        "print('number of fraudulent cashouts:', len(fraud[fraud.type == 'CASH_OUT']))"
      ],
      "execution_count": null,
      "outputs": [
        {
          "output_type": "stream",
          "text": [
            "TRANSFER CASH_OUT\n",
            "number of fraudulent transfers: 4097\n",
            "number of fraudulent cashouts: 4116\n"
          ],
          "name": "stdout"
        }
      ]
    },
    {
      "cell_type": "markdown",
      "metadata": {
        "id": "0WHO2LcEPAmT"
      },
      "source": [
        "In this dataset the fraudulent behavior aims to make a transfer to a fraudulent account with the subsequent execution of a cashout. So, I assume that a fraud only happens when the transaction type is 'TRANSFER' or 'CASH_OUT'. This is confirmed above. We can also see that the number of transfers and cashouts is approximately the same. Let's check if this means that the fraudulent account makes a transfer first and then a cashout.\n"
      ]
    },
    {
      "cell_type": "code",
      "metadata": {
        "colab": {
          "base_uri": "https://localhost:8080/",
          "height": 224
        },
        "id": "IfeUSWGG4Owe",
        "outputId": "1e614cff-547e-4437-a02a-b9565b894575"
      },
      "source": [
        "new_df = df[(df.type == 'CASH_OUT') | (df.type == 'TRANSFER')].drop('isFlaggedFraud', axis=1)\n",
        "fraud = new_df[new_df.isFraud == 1]\n",
        "new_df.head()"
      ],
      "execution_count": null,
      "outputs": [
        {
          "output_type": "execute_result",
          "data": {
            "text/html": [
              "<div>\n",
              "<style scoped>\n",
              "    .dataframe tbody tr th:only-of-type {\n",
              "        vertical-align: middle;\n",
              "    }\n",
              "\n",
              "    .dataframe tbody tr th {\n",
              "        vertical-align: top;\n",
              "    }\n",
              "\n",
              "    .dataframe thead th {\n",
              "        text-align: right;\n",
              "    }\n",
              "</style>\n",
              "<table border=\"1\" class=\"dataframe\">\n",
              "  <thead>\n",
              "    <tr style=\"text-align: right;\">\n",
              "      <th></th>\n",
              "      <th>step</th>\n",
              "      <th>type</th>\n",
              "      <th>amount</th>\n",
              "      <th>nameOrig</th>\n",
              "      <th>oldbalanceOrg</th>\n",
              "      <th>newbalanceOrig</th>\n",
              "      <th>nameDest</th>\n",
              "      <th>oldbalanceDest</th>\n",
              "      <th>newbalanceDest</th>\n",
              "      <th>isFraud</th>\n",
              "    </tr>\n",
              "  </thead>\n",
              "  <tbody>\n",
              "    <tr>\n",
              "      <th>2</th>\n",
              "      <td>1</td>\n",
              "      <td>TRANSFER</td>\n",
              "      <td>181.00</td>\n",
              "      <td>C1305486145</td>\n",
              "      <td>181.0</td>\n",
              "      <td>0.0</td>\n",
              "      <td>C553264065</td>\n",
              "      <td>0.0</td>\n",
              "      <td>0.00</td>\n",
              "      <td>1</td>\n",
              "    </tr>\n",
              "    <tr>\n",
              "      <th>3</th>\n",
              "      <td>1</td>\n",
              "      <td>CASH_OUT</td>\n",
              "      <td>181.00</td>\n",
              "      <td>C840083671</td>\n",
              "      <td>181.0</td>\n",
              "      <td>0.0</td>\n",
              "      <td>C38997010</td>\n",
              "      <td>21182.0</td>\n",
              "      <td>0.00</td>\n",
              "      <td>1</td>\n",
              "    </tr>\n",
              "    <tr>\n",
              "      <th>15</th>\n",
              "      <td>1</td>\n",
              "      <td>CASH_OUT</td>\n",
              "      <td>229133.94</td>\n",
              "      <td>C905080434</td>\n",
              "      <td>15325.0</td>\n",
              "      <td>0.0</td>\n",
              "      <td>C476402209</td>\n",
              "      <td>5083.0</td>\n",
              "      <td>51513.44</td>\n",
              "      <td>0</td>\n",
              "    </tr>\n",
              "    <tr>\n",
              "      <th>19</th>\n",
              "      <td>1</td>\n",
              "      <td>TRANSFER</td>\n",
              "      <td>215310.30</td>\n",
              "      <td>C1670993182</td>\n",
              "      <td>705.0</td>\n",
              "      <td>0.0</td>\n",
              "      <td>C1100439041</td>\n",
              "      <td>22425.0</td>\n",
              "      <td>0.00</td>\n",
              "      <td>0</td>\n",
              "    </tr>\n",
              "    <tr>\n",
              "      <th>24</th>\n",
              "      <td>1</td>\n",
              "      <td>TRANSFER</td>\n",
              "      <td>311685.89</td>\n",
              "      <td>C1984094095</td>\n",
              "      <td>10835.0</td>\n",
              "      <td>0.0</td>\n",
              "      <td>C932583850</td>\n",
              "      <td>6267.0</td>\n",
              "      <td>2719172.89</td>\n",
              "      <td>0</td>\n",
              "    </tr>\n",
              "  </tbody>\n",
              "</table>\n",
              "</div>"
            ],
            "text/plain": [
              "    step      type     amount  ... oldbalanceDest  newbalanceDest  isFraud\n",
              "2      1  TRANSFER     181.00  ...            0.0            0.00        1\n",
              "3      1  CASH_OUT     181.00  ...        21182.0            0.00        1\n",
              "15     1  CASH_OUT  229133.94  ...         5083.0        51513.44        0\n",
              "19     1  TRANSFER  215310.30  ...        22425.0            0.00        0\n",
              "24     1  TRANSFER  311685.89  ...         6267.0      2719172.89        0\n",
              "\n",
              "[5 rows x 10 columns]"
            ]
          },
          "metadata": {
            "tags": []
          },
          "execution_count": 14
        }
      ]
    },
    {
      "cell_type": "code",
      "metadata": {
        "colab": {
          "base_uri": "https://localhost:8080/"
        },
        "id": "8HjREIDKMOC-",
        "outputId": "5da72a79-ab2d-4f44-b140-49d85723dec1"
      },
      "source": [
        "fraud[fraud.type == 'TRANSFER'].nameOrig.isin(fraud[fraud.type == 'CASH_OUT'].nameDest).value_counts()"
      ],
      "execution_count": null,
      "outputs": [
        {
          "output_type": "execute_result",
          "data": {
            "text/plain": [
              "False    4097\n",
              "Name: nameOrig, dtype: int64"
            ]
          },
          "metadata": {
            "tags": []
          },
          "execution_count": 15
        }
      ]
    },
    {
      "cell_type": "markdown",
      "metadata": {
        "id": "RXWHSxsORJbX"
      },
      "source": [
        "As displayed above, there were no accounts that made the transfer and then the cashout. So, I assume there is no correlation between the accounts from which the transfer was made and the accounts from which the money was withdrawn as a result of fraud.\n",
        "Thus, the nameOrig and the nameDest are also removed from the dataset."
      ]
    },
    {
      "cell_type": "code",
      "metadata": {
        "id": "wpKedCKi3eVh"
      },
      "source": [
        "new_df = new_df.drop(['nameOrig', 'nameDest'], axis=1)"
      ],
      "execution_count": null,
      "outputs": []
    },
    {
      "cell_type": "markdown",
      "metadata": {
        "id": "j4L-nGGBTKQp"
      },
      "source": [
        "Looking at the data, you can see a zero value in the oldbalanceOrg and the \n",
        "newbalanceOrig, however the amount field has a non-zero value. The same is true for the oldbalanceDest and the newbalanceDest. I assume that the unknown data was initially replaced with \"0\", but since zero balance can be a considerable fraud factor, I'm going to replaced ​​with \"-1\".\n",
        "Errors in the account balance data are also clearly visible in the process of performing transactions, on this basis we are creating two new features containing these errors.\n",
        "\n"
      ]
    },
    {
      "cell_type": "code",
      "metadata": {
        "colab": {
          "base_uri": "https://localhost:8080/",
          "height": 224
        },
        "id": "Xx0SLY75Urj2",
        "outputId": "76a0c157-6366-4077-8294-ba08610ee280"
      },
      "source": [
        "new_df.loc[((new_df.oldbalanceOrg\t== 0)\n",
        "        & (new_df.newbalanceOrig == 0)\n",
        "        & (new_df.amount != 0)), ['oldbalanceOrg',\t'newbalanceOrig']] = -1\n",
        "new_df.loc[((new_df.oldbalanceDest\t== 0)\n",
        "        & (new_df.newbalanceDest == 0)\n",
        "        & (new_df.amount != 0)), ['oldbalanceDest',\t'newbalanceDest']] = -1\n",
        "        \n",
        "new_df['errbalanceOrg'] = new_df.amount - new_df.oldbalanceOrg + new_df.newbalanceOrig\n",
        "new_df['errbalanceDest'] = new_df.amount + new_df.oldbalanceDest - new_df.newbalanceDest\n",
        "\n",
        "fraud = new_df[new_df.isFraud == 1]\n",
        "not_fraud = new_df[new_df.isFraud == 0]\n",
        "new_df.head()"
      ],
      "execution_count": null,
      "outputs": [
        {
          "output_type": "execute_result",
          "data": {
            "text/html": [
              "<div>\n",
              "<style scoped>\n",
              "    .dataframe tbody tr th:only-of-type {\n",
              "        vertical-align: middle;\n",
              "    }\n",
              "\n",
              "    .dataframe tbody tr th {\n",
              "        vertical-align: top;\n",
              "    }\n",
              "\n",
              "    .dataframe thead th {\n",
              "        text-align: right;\n",
              "    }\n",
              "</style>\n",
              "<table border=\"1\" class=\"dataframe\">\n",
              "  <thead>\n",
              "    <tr style=\"text-align: right;\">\n",
              "      <th></th>\n",
              "      <th>step</th>\n",
              "      <th>type</th>\n",
              "      <th>amount</th>\n",
              "      <th>oldbalanceOrg</th>\n",
              "      <th>newbalanceOrig</th>\n",
              "      <th>oldbalanceDest</th>\n",
              "      <th>newbalanceDest</th>\n",
              "      <th>isFraud</th>\n",
              "      <th>errbalanceOrg</th>\n",
              "      <th>errbalanceDest</th>\n",
              "    </tr>\n",
              "  </thead>\n",
              "  <tbody>\n",
              "    <tr>\n",
              "      <th>2</th>\n",
              "      <td>1</td>\n",
              "      <td>TRANSFER</td>\n",
              "      <td>181.00</td>\n",
              "      <td>181.0</td>\n",
              "      <td>0.0</td>\n",
              "      <td>-1.0</td>\n",
              "      <td>-1.00</td>\n",
              "      <td>1</td>\n",
              "      <td>0.00</td>\n",
              "      <td>181.0</td>\n",
              "    </tr>\n",
              "    <tr>\n",
              "      <th>3</th>\n",
              "      <td>1</td>\n",
              "      <td>CASH_OUT</td>\n",
              "      <td>181.00</td>\n",
              "      <td>181.0</td>\n",
              "      <td>0.0</td>\n",
              "      <td>21182.0</td>\n",
              "      <td>0.00</td>\n",
              "      <td>1</td>\n",
              "      <td>0.00</td>\n",
              "      <td>21363.0</td>\n",
              "    </tr>\n",
              "    <tr>\n",
              "      <th>15</th>\n",
              "      <td>1</td>\n",
              "      <td>CASH_OUT</td>\n",
              "      <td>229133.94</td>\n",
              "      <td>15325.0</td>\n",
              "      <td>0.0</td>\n",
              "      <td>5083.0</td>\n",
              "      <td>51513.44</td>\n",
              "      <td>0</td>\n",
              "      <td>213808.94</td>\n",
              "      <td>182703.5</td>\n",
              "    </tr>\n",
              "    <tr>\n",
              "      <th>19</th>\n",
              "      <td>1</td>\n",
              "      <td>TRANSFER</td>\n",
              "      <td>215310.30</td>\n",
              "      <td>705.0</td>\n",
              "      <td>0.0</td>\n",
              "      <td>22425.0</td>\n",
              "      <td>0.00</td>\n",
              "      <td>0</td>\n",
              "      <td>214605.30</td>\n",
              "      <td>237735.3</td>\n",
              "    </tr>\n",
              "    <tr>\n",
              "      <th>24</th>\n",
              "      <td>1</td>\n",
              "      <td>TRANSFER</td>\n",
              "      <td>311685.89</td>\n",
              "      <td>10835.0</td>\n",
              "      <td>0.0</td>\n",
              "      <td>6267.0</td>\n",
              "      <td>2719172.89</td>\n",
              "      <td>0</td>\n",
              "      <td>300850.89</td>\n",
              "      <td>-2401220.0</td>\n",
              "    </tr>\n",
              "  </tbody>\n",
              "</table>\n",
              "</div>"
            ],
            "text/plain": [
              "    step      type     amount  ...  isFraud  errbalanceOrg  errbalanceDest\n",
              "2      1  TRANSFER     181.00  ...        1           0.00           181.0\n",
              "3      1  CASH_OUT     181.00  ...        1           0.00         21363.0\n",
              "15     1  CASH_OUT  229133.94  ...        0      213808.94        182703.5\n",
              "19     1  TRANSFER  215310.30  ...        0      214605.30        237735.3\n",
              "24     1  TRANSFER  311685.89  ...        0      300850.89      -2401220.0\n",
              "\n",
              "[5 rows x 10 columns]"
            ]
          },
          "metadata": {
            "tags": []
          },
          "execution_count": 17
        }
      ]
    },
    {
      "cell_type": "markdown",
      "metadata": {
        "id": "dTbC3bdVtU_E"
      },
      "source": [
        "Let's look at the distribution of transactions over time and visualize whether our features can separate transactions into fraudulent and valid successfully.\n"
      ]
    },
    {
      "cell_type": "code",
      "metadata": {
        "colab": {
          "base_uri": "https://localhost:8080/",
          "height": 404
        },
        "id": "aRz6i68muYH0",
        "outputId": "aabc8cb8-acfb-4eda-8b40-9884ec7d9cff"
      },
      "source": [
        "fig, axes = plt.subplots(nrows=2, ncols=1, figsize=(9, 6))\n",
        "sns.histplot(fraud.step, kde=True, stat='density', ax=axes[0])\n",
        "sns.histplot(not_fraud.step, kde=True, stat='density', ax=axes[1])\n",
        "axes[0].set_title('Fraud')\n",
        "axes[1].set_title('Not fraud')\n",
        "plt.subplots_adjust(hspace=0.4)\n",
        "plt.show()"
      ],
      "execution_count": null,
      "outputs": [
        {
          "output_type": "display_data",
          "data": {
            "image/png": "[encoded data removed]",
            "text/plain": [
              "<Figure size 648x432 with 2 Axes>"
            ]
          },
          "metadata": {
            "tags": [],
            "needs_background": "light"
          }
        }
      ]
    },
    {
      "cell_type": "markdown",
      "metadata": {
        "id": "c-xr3UaKcEBx"
      },
      "source": [
        "The difference between valid and fraudulent transactions is clearly visible. Fraudulent transactions are evenly distributed throughout all steps, as opposed to valid ones. \n",
        "Let's look at the distribution by hours for days."
      ]
    },
    {
      "cell_type": "code",
      "metadata": {
        "colab": {
          "base_uri": "https://localhost:8080/",
          "height": 404
        },
        "id": "2E8LhCBea0w4",
        "outputId": "7d24448a-b9aa-4670-8e3d-1b2b243423c6"
      },
      "source": [
        "fig, axes = plt.subplots(nrows=2, ncols=1, figsize=(9, 6))\n",
        "sns.histplot(fraud.step % 24, kde=True, stat='density', ax=axes[0])\n",
        "sns.histplot(not_fraud.step % 24, kde=True, stat='density', ax=axes[1])\n",
        "axes[0].set_title('Fraud')\n",
        "axes[1].set_title('Not fraud')\n",
        "axes[1].set_xticks(range(24))\n",
        "plt.subplots_adjust(hspace=0.4)\n",
        "plt.show()"
      ],
      "execution_count": null,
      "outputs": [
        {
          "output_type": "display_data",
          "data": {
            "image/png": "[encoded data removed]",
            "text/plain": [
              "<Figure size 648x432 with 2 Axes>"
            ]
          },
          "metadata": {
            "tags": [],
            "needs_background": "light"
          }
        }
      ]
    },
    {
      "cell_type": "markdown",
      "metadata": {
        "id": "418i8OGUeRwv"
      },
      "source": [
        "Again, we can clearly see the subsidence of valid transactions. The subsidence occurs in the first 8 hours, while fraudulent transactions occur evenly throughout the day."
      ]
    },
    {
      "cell_type": "code",
      "metadata": {
        "colab": {
          "base_uri": "https://localhost:8080/",
          "height": 404
        },
        "id": "zsxqDXPkrYOs",
        "outputId": "71404aba-e9d5-4775-f3d8-da5ea47f54f6"
      },
      "source": [
        "fig, axes = plt.subplots(nrows=2, ncols=1, figsize=(9, 6))\n",
        "sns.histplot(fraud.amount, kde=True, stat='density', ax=axes[0])\n",
        "sns.histplot(not_fraud.amount, kde=True, stat='density', ax=axes[1])\n",
        "axes[0].set_title('Fraud')\n",
        "axes[1].set_title('Not fraud')\n",
        "plt.subplots_adjust(hspace=0.4)\n",
        "plt.show()"
      ],
      "execution_count": null,
      "outputs": [
        {
          "output_type": "display_data",
          "data": {
            "image/png": "[encoded data removed]",
            "text/plain": [
              "<Figure size 648x432 with 2 Axes>"
            ]
          },
          "metadata": {
            "tags": [],
            "needs_background": "light"
          }
        }
      ]
    },
    {
      "cell_type": "code",
      "metadata": {
        "colab": {
          "base_uri": "https://localhost:8080/",
          "height": 290
        },
        "id": "OvKsw7I6EkPa",
        "outputId": "3c2ba3c1-9234-4ac3-a7b1-bb5af9356cab"
      },
      "source": [
        "sns.scatterplot(data=new_df, x='oldbalanceOrg', y='newbalanceOrig', hue='isFraud', style='isFraud')\n",
        "plt.show()"
      ],
      "execution_count": null,
      "outputs": [
        {
          "output_type": "display_data",
          "data": {
            "image/png": "[encoded data removed]",
            "text/plain": [
              "<Figure size 432x288 with 1 Axes>"
            ]
          },
          "metadata": {
            "tags": [],
            "needs_background": "light"
          }
        }
      ]
    },
    {
      "cell_type": "code",
      "metadata": {
        "colab": {
          "base_uri": "https://localhost:8080/",
          "height": 370
        },
        "id": "gWqHORFCJatS",
        "outputId": "fc695f7a-560e-4c71-9f75-d4e32b68ba57"
      },
      "source": [
        "sns.relplot(\n",
        "    data=new_df, x='oldbalanceDest', y='newbalanceDest',\n",
        "    col='isFraud', hue='isFraud', \n",
        "    kind='scatter')\n",
        "plt.show()"
      ],
      "execution_count": null,
      "outputs": [
        {
          "output_type": "display_data",
          "data": {
            "image/png": "[encoded data removed]",
            "text/plain": [
              "<Figure size 764.125x360 with 2 Axes>"
            ]
          },
          "metadata": {
            "tags": [],
            "needs_background": "light"
          }
        }
      ]
    },
    {
      "cell_type": "code",
      "metadata": {
        "colab": {
          "base_uri": "https://localhost:8080/",
          "height": 370
        },
        "id": "D0OAfnfsiyNx",
        "outputId": "82708465-0376-4fcb-8b03-49d2a2b55df4"
      },
      "source": [
        "sns.relplot(\n",
        "    data=new_df, x='errbalanceDest', y='errbalanceOrg',\n",
        "    col='isFraud', hue='isFraud', \n",
        "    kind='scatter')\n",
        "plt.show()"
      ],
      "execution_count": null,
      "outputs": [
        {
          "output_type": "display_data",
          "data": {
            "image/png": "[encoded data removed]",
            "text/plain": [
              "<Figure size 764.125x360 with 2 Axes>"
            ]
          },
          "metadata": {
            "tags": [],
            "needs_background": "light"
          }
        }
      ]
    },
    {
      "cell_type": "markdown",
      "metadata": {
        "id": "_MpUB1YBkjjm"
      },
      "source": [
        "We can clearly see that our functions are likely to effectively detect fraudulent transactions. Therefore, let's move on to data preprocessing. We replace the categorical variable with numeric ones, divide the data into training and test samples and normalize them for greater efficiency of machine learning models."
      ]
    },
    {
      "cell_type": "code",
      "metadata": {
        "colab": {
          "base_uri": "https://localhost:8080/",
          "height": 224
        },
        "id": "Ibe30bSQ9jud",
        "outputId": "6df5a52b-6ede-457a-8cbb-03c521ab4aa2"
      },
      "source": [
        "ohe = OneHotEncoder(sparse=False)\n",
        "\n",
        "new_df[['typeCASH_OUT', 'typeTRANSFER']] = ohe.fit_transform(new_df.type.values.reshape(-1, 1))\n",
        "\n",
        "new_df = new_df.drop('type', axis=1)\n",
        "new_df.head()"
      ],
      "execution_count": null,
      "outputs": [
        {
          "output_type": "execute_result",
          "data": {
            "text/html": [
              "<div>\n",
              "<style scoped>\n",
              "    .dataframe tbody tr th:only-of-type {\n",
              "        vertical-align: middle;\n",
              "    }\n",
              "\n",
              "    .dataframe tbody tr th {\n",
              "        vertical-align: top;\n",
              "    }\n",
              "\n",
              "    .dataframe thead th {\n",
              "        text-align: right;\n",
              "    }\n",
              "</style>\n",
              "<table border=\"1\" class=\"dataframe\">\n",
              "  <thead>\n",
              "    <tr style=\"text-align: right;\">\n",
              "      <th></th>\n",
              "      <th>step</th>\n",
              "      <th>amount</th>\n",
              "      <th>oldbalanceOrg</th>\n",
              "      <th>newbalanceOrig</th>\n",
              "      <th>oldbalanceDest</th>\n",
              "      <th>newbalanceDest</th>\n",
              "      <th>isFraud</th>\n",
              "      <th>errbalanceOrg</th>\n",
              "      <th>errbalanceDest</th>\n",
              "      <th>typeCASH_OUT</th>\n",
              "      <th>typeTRANSFER</th>\n",
              "    </tr>\n",
              "  </thead>\n",
              "  <tbody>\n",
              "    <tr>\n",
              "      <th>2</th>\n",
              "      <td>1</td>\n",
              "      <td>181.00</td>\n",
              "      <td>181.0</td>\n",
              "      <td>0.0</td>\n",
              "      <td>-1.0</td>\n",
              "      <td>-1.00</td>\n",
              "      <td>1</td>\n",
              "      <td>0.00</td>\n",
              "      <td>181.0</td>\n",
              "      <td>0.0</td>\n",
              "      <td>1.0</td>\n",
              "    </tr>\n",
              "    <tr>\n",
              "      <th>3</th>\n",
              "      <td>1</td>\n",
              "      <td>181.00</td>\n",
              "      <td>181.0</td>\n",
              "      <td>0.0</td>\n",
              "      <td>21182.0</td>\n",
              "      <td>0.00</td>\n",
              "      <td>1</td>\n",
              "      <td>0.00</td>\n",
              "      <td>21363.0</td>\n",
              "      <td>1.0</td>\n",
              "      <td>0.0</td>\n",
              "    </tr>\n",
              "    <tr>\n",
              "      <th>15</th>\n",
              "      <td>1</td>\n",
              "      <td>229133.94</td>\n",
              "      <td>15325.0</td>\n",
              "      <td>0.0</td>\n",
              "      <td>5083.0</td>\n",
              "      <td>51513.44</td>\n",
              "      <td>0</td>\n",
              "      <td>213808.94</td>\n",
              "      <td>182703.5</td>\n",
              "      <td>1.0</td>\n",
              "      <td>0.0</td>\n",
              "    </tr>\n",
              "    <tr>\n",
              "      <th>19</th>\n",
              "      <td>1</td>\n",
              "      <td>215310.30</td>\n",
              "      <td>705.0</td>\n",
              "      <td>0.0</td>\n",
              "      <td>22425.0</td>\n",
              "      <td>0.00</td>\n",
              "      <td>0</td>\n",
              "      <td>214605.30</td>\n",
              "      <td>237735.3</td>\n",
              "      <td>0.0</td>\n",
              "      <td>1.0</td>\n",
              "    </tr>\n",
              "    <tr>\n",
              "      <th>24</th>\n",
              "      <td>1</td>\n",
              "      <td>311685.89</td>\n",
              "      <td>10835.0</td>\n",
              "      <td>0.0</td>\n",
              "      <td>6267.0</td>\n",
              "      <td>2719172.89</td>\n",
              "      <td>0</td>\n",
              "      <td>300850.89</td>\n",
              "      <td>-2401220.0</td>\n",
              "      <td>0.0</td>\n",
              "      <td>1.0</td>\n",
              "    </tr>\n",
              "  </tbody>\n",
              "</table>\n",
              "</div>"
            ],
            "text/plain": [
              "    step     amount  oldbalanceOrg  ...  errbalanceDest  typeCASH_OUT  typeTRANSFER\n",
              "2      1     181.00          181.0  ...           181.0           0.0           1.0\n",
              "3      1     181.00          181.0  ...         21363.0           1.0           0.0\n",
              "15     1  229133.94        15325.0  ...        182703.5           1.0           0.0\n",
              "19     1  215310.30          705.0  ...        237735.3           0.0           1.0\n",
              "24     1  311685.89        10835.0  ...      -2401220.0           0.0           1.0\n",
              "\n",
              "[5 rows x 11 columns]"
            ]
          },
          "metadata": {
            "tags": []
          },
          "execution_count": 24
        }
      ]
    },
    {
      "cell_type": "code",
      "metadata": {
        "id": "iRrPCuXlfj1I"
      },
      "source": [
        "X = new_df.drop('isFraud', axis=1)\n",
        "y = new_df.isFraud\n",
        "Sc = StandardScaler()\n",
        "X_train, X_test, y_train, y_test = train_test_split(X, y, test_size=0.33, shuffle=False)\n",
        "X_train = Sc.fit_transform(X_train)\n",
        "X_test = Sc.transform(X_test)"
      ],
      "execution_count": null,
      "outputs": []
    },
    {
      "cell_type": "markdown",
      "metadata": {
        "id": "g3_ZWLNlmRNi"
      },
      "source": [
        "Note that I am using the shuffle = False parameter because I assume the model should predict the future from the past, and to avoid the possibility of knowing the future while training models."
      ]
    },
    {
      "cell_type": "markdown",
      "metadata": {
        "id": "7tlKsGLrsP-n"
      },
      "source": [
        "Now let us go directly to the choice of the model. Since the data is highly imbalanced, I'll take precision, recall and AURPC as metrics. I will also take into account the Matthews correlation coefficient as the most informative balanced indicator.\n",
        "\n",
        "I also assume that false positive results are higher than false negative results for financial losses, so in that case I will give preference to algorithms with a lower FP result\n",
        "\n",
        "First, let's select several algorithms and see how they cope with intuitively selected parameters."
      ]
    },
    {
      "cell_type": "code",
      "metadata": {
        "id": "48SJecAfOn6q"
      },
      "source": [
        "names = ['Logistic Regression', 'Random Forest', \n",
        "         'Ada Boost', 'Bagging Classifier',\n",
        "         'Cat Boost', 'LGBM Classifier', 'XGB Classifier']\n",
        "\n",
        "classifiers = [\n",
        "    LogisticRegression(class_weight='balanced', n_jobs=-1, random_state=42),\n",
        "    RandomForestClassifier(class_weight='balanced', n_jobs=-1, random_state=42),\n",
        "    AdaBoostClassifier(random_state=42),\n",
        "    BaggingClassifier(n_jobs=-1, random_state=42),\n",
        "    CatBoostClassifier(n_estimators=100, max_depth=3, auto_class_weights='Balanced', random_state=42, verbose=False),\n",
        "    LGBMClassifier(n_estimators=100, max_depth=3, class_weight='balanced', n_jobs=-1, random_state=42),\n",
        "    XGBClassifier(n_estimators=100, max_depth=3, scale_pos_weight=((y == 0).sum() / (y == 1).sum()), n_jobs=-1, random_state=42)]\n",
        "\n",
        "def result(clf, name, x_test, y_test):\n",
        "    y_prob=clf.predict_proba(x_test)\n",
        "    y_pred=clf.predict(x_test)\n",
        "    print('The model used :', name) \n",
        "    print('AUPRC :', (average_precision_score(y_test, y_prob[:, 1])))\n",
        "    print('The accuracy :', accuracy_score(y_test, y_pred))\n",
        "    print('The precision :', precision_score(y_test, y_pred)) \n",
        "    print('The recall :', recall_score(y_test, y_pred))\n",
        "    print('F1 - score :', f1_score(y_test, y_pred))\n",
        "    print('The Matthews correlation coefficient :', matthews_corrcoef(y_test, y_pred)) \n",
        "    print('Confusion_matrix :')\n",
        "    print(confusion_matrix(y_test, y_pred))"
      ],
      "execution_count": null,
      "outputs": []
    },
    {
      "cell_type": "code",
      "metadata": {
        "colab": {
          "base_uri": "https://localhost:8080/"
        },
        "id": "ANsZSFWzn7Du",
        "outputId": "abe7c6cc-883f-4e43-a572-5ba551b37edf"
      },
      "source": [
        "for name, classifier in zip(names, classifiers):\n",
        "    start = time.time()\n",
        "    classifier.fit(X_train, y_train)\n",
        "    result(classifier, name, x_test=X_test, y_test=y_test)\n",
        "    print('Duration : {} seconds'.format(round(time.time() - start, 2)))\n",
        "    print('_' * 60)\n",
        "    "
      ],
      "execution_count": null,
      "outputs": [
        {
          "output_type": "stream",
          "text": [
            "The model used : Logistic Regression\n",
            "AUPRC : 0.6509798344201101\n",
            "The accuracy : 0.9744102993212905\n",
            "The precision : 0.14910132258186065\n",
            "The recall : 0.829559748427673\n",
            "F1 - score : 0.2527707687885273\n",
            "The Matthews correlation coefficient : 0.34532485776449073\n",
            "Confusion_matrix :\n",
            "[[886883  22582]\n",
            " [   813   3957]]\n",
            "Duration : 22.93 seconds\n",
            "____________________________________________________________\n",
            "The model used : Random Forest\n",
            "AUPRC : 0.9999997802569814\n",
            "The accuracy : 0.9999967185679831\n",
            "The precision : 0.9997903124344726\n",
            "The recall : 0.99958071278826\n",
            "F1 - score : 0.9996855016249083\n",
            "The Matthews correlation coefficient : 0.999683857855516\n",
            "Confusion_matrix :\n",
            "[[909464      1]\n",
            " [     2   4768]]\n",
            "Duration : 289.07 seconds\n",
            "____________________________________________________________\n",
            "The model used : Ada Boost\n",
            "AUPRC : 0.9994208056889989\n",
            "The accuracy : 0.9987486805908765\n",
            "The precision : 1.0\n",
            "The recall : 0.760167714884696\n",
            "F1 - score : 0.8637446403049072\n",
            "The Matthews correlation coefficient : 0.871328132558155\n",
            "Confusion_matrix :\n",
            "[[909465      0]\n",
            " [  1144   3626]]\n",
            "Duration : 185.37 seconds\n",
            "____________________________________________________________\n",
            "The model used : Bagging Classifier\n",
            "AUPRC : 0.9997894774958681\n",
            "The accuracy : 0.9999956247573107\n",
            "The precision : 0.9993713327745181\n",
            "The recall : 0.9997903563941299\n",
            "F1 - score : 0.999580800670719\n",
            "The Matthews correlation coefficient : 0.9995786237610518\n",
            "Confusion_matrix :\n",
            "[[909462      3]\n",
            " [     1   4769]]\n",
            "Duration : 109.13 seconds\n",
            "____________________________________________________________\n",
            "The model used : Cat Boost\n",
            "AUPRC : 0.8287746359882107\n",
            "The accuracy : 0.9995405995176295\n",
            "The precision : 0.9190751445086706\n",
            "The recall : 1.0\n",
            "F1 - score : 0.9578313253012047\n",
            "The Matthews correlation coefficient : 0.9584626786934218\n",
            "Confusion_matrix :\n",
            "[[909045    420]\n",
            " [     0   4770]]\n",
            "Duration : 30.12 seconds\n",
            "____________________________________________________________\n",
            "The model used : LGBM Classifier\n",
            "AUPRC : 0.9998740871644298\n",
            "The accuracy : 0.9999879680826046\n",
            "The precision : 0.9981159723675948\n",
            "The recall : 0.99958071278826\n",
            "F1 - score : 0.9988478055933802\n",
            "The Matthews correlation coefficient : 0.998842029378393\n",
            "Confusion_matrix :\n",
            "[[909456      9]\n",
            " [     2   4768]]\n",
            "Duration : 19.59 seconds\n",
            "____________________________________________________________\n",
            "The model used : XGB Classifier\n",
            "AUPRC : 0.9999410837598383\n",
            "The accuracy : 0.9999978123786554\n",
            "The precision : 0.9995808885163453\n",
            "The recall : 1.0\n",
            "F1 - score : 0.9997904003353595\n",
            "The Matthews correlation coefficient : 0.9997893229790659\n",
            "Confusion_matrix :\n",
            "[[909463      2]\n",
            " [     0   4770]]\n",
            "Duration : 154.64 seconds\n",
            "____________________________________________________________\n"
          ],
          "name": "stdout"
        }
      ]
    },
    {
      "cell_type": "markdown",
      "metadata": {
        "id": "MZxWBM15z65S"
      },
      "source": [
        "As seen above, RF, XGBoost, Bagging, and LightGBM did the best. Let's dwell on them and try to improve the obtained results.\n",
        "\n",
        "First in the queue is the potentially fastest model - LGBM"
      ]
    },
    {
      "cell_type": "code",
      "metadata": {
        "colab": {
          "base_uri": "https://localhost:8080/"
        },
        "id": "QDt-E-N93Vsj",
        "outputId": "4688a910-0805-4a95-f616-4118e1ecec6b"
      },
      "source": [
        "%%time\n",
        "# Let's try to increase a boosted trees\n",
        "lgbm = LGBMClassifier(n_estimators=200, max_depth=3, class_weight='balanced', n_jobs=-1, random_state=42)\n",
        "lgbm.fit(X_train, y_train)\n",
        "result(lgbm, name='LGBM Classifier', x_test=X_test, y_test=y_test)"
      ],
      "execution_count": null,
      "outputs": [
        {
          "output_type": "stream",
          "text": [
            "The model used : LGBM Classifier\n",
            "AUPRC : 0.9999316860474609\n",
            "The accuracy : 0.9999978123786554\n",
            "The precision : 0.9997903563941299\n",
            "The recall : 0.9997903563941299\n",
            "F1 - score : 0.9997903563941299\n",
            "The Matthews correlation coefficient : 0.9997892568465938\n",
            "Confusion_matrix :\n",
            "[[909464      1]\n",
            " [     1   4769]]\n",
            "CPU times: user 1min 6s, sys: 66 ms, total: 1min 6s\n",
            "Wall time: 35.3 s\n"
          ],
          "name": "stdout"
        }
      ]
    },
    {
      "cell_type": "code",
      "metadata": {
        "colab": {
          "base_uri": "https://localhost:8080/"
        },
        "id": "J5VB3bzZ13hS",
        "outputId": "ce571ca4-0585-425e-ea35-66edc223339b"
      },
      "source": [
        "%%time\n",
        "# Let's try to increase a maximum depth\n",
        "lgbm = LGBMClassifier(n_estimators=200, max_depth=5, class_weight='balanced', n_jobs=-1, random_state=42)\n",
        "lgbm.fit(X_train, y_train)\n",
        "result(lgbm, name='LGBM Classifier', x_test=X_test, y_test=y_test)"
      ],
      "execution_count": null,
      "outputs": [
        {
          "output_type": "stream",
          "text": [
            "The model used : LGBM Classifier\n",
            "AUPRC : 0.9997408007816904\n",
            "The accuracy : 0.9999967185679831\n",
            "The precision : 0.9997903124344726\n",
            "The recall : 0.99958071278826\n",
            "F1 - score : 0.9996855016249083\n",
            "The Matthews correlation coefficient : 0.999683857855516\n",
            "Confusion_matrix :\n",
            "[[909464      1]\n",
            " [     2   4768]]\n",
            "CPU times: user 1min 26s, sys: 91.7 ms, total: 1min 26s\n",
            "Wall time: 45.5 s\n"
          ],
          "name": "stdout"
        }
      ]
    },
    {
      "cell_type": "markdown",
      "metadata": {
        "id": "1SE55Ecm1bCe"
      },
      "source": [
        "After going through several parameters, we achieved a fairly good result with 200 boosted trees and a maximum depth of 3.\n",
        "Let's see what features were the most important"
      ]
    },
    {
      "cell_type": "code",
      "metadata": {
        "colab": {
          "base_uri": "https://localhost:8080/",
          "height": 265
        },
        "id": "JRTzy0oM-_05",
        "outputId": "1f45b6e6-fa68-4f42-8d29-bd4a248b7fb4"
      },
      "source": [
        "importance_scores = lgbm.feature_importances_\n",
        "temp = np.argsort(importance_scores)\n",
        "plt.barh(X.columns[temp], importance_scores[temp])\n",
        "plt.show()"
      ],
      "execution_count": null,
      "outputs": [
        {
          "output_type": "display_data",
          "data": {
            "image/png": "[encoded data removed]",
            "text/plain": [
              "<Figure size 432x288 with 1 Axes>"
            ]
          },
          "metadata": {
            "tags": [],
            "needs_background": "light"
          }
        }
      ]
    },
    {
      "cell_type": "markdown",
      "metadata": {
        "id": "ZCN-AtWITD3x"
      },
      "source": [
        "\n",
        "The graph shows that the balance-error features created earlier turned out to be quite important.\n",
        "\n",
        "Let's see if we can improve the result with XGBoost"
      ]
    },
    {
      "cell_type": "code",
      "metadata": {
        "colab": {
          "base_uri": "https://localhost:8080/"
        },
        "id": "WnjwtTSoec-E",
        "outputId": "66d3f978-3340-47d8-8b3f-6a2f0b6bc652"
      },
      "source": [
        "%%time\n",
        "# Let's try parameters like LGBM\n",
        "weight = ((y == 0).sum() / (y == 1).sum())\n",
        "xgb = XGBClassifier(n_estimators=200, max_depth=3, scale_pos_weight=weight, n_jobs=-1, random_state=42)\n",
        "xgb.fit(X_train, y_train)\n",
        "result(xgb, name='XGB Classifier', x_test=X_test, y_test=y_test)"
      ],
      "execution_count": null,
      "outputs": [
        {
          "output_type": "stream",
          "text": [
            "The model used : XGB Classifier\n",
            "AUPRC : 0.9998753829893249\n",
            "The accuracy : 0.9999978123786554\n",
            "The precision : 0.9997903563941299\n",
            "The recall : 0.9997903563941299\n",
            "F1 - score : 0.9997903563941299\n",
            "The Matthews correlation coefficient : 0.9997892568465938\n",
            "Confusion_matrix :\n",
            "[[909464      1]\n",
            " [     1   4769]]\n",
            "CPU times: user 9min 46s, sys: 461 ms, total: 9min 46s\n",
            "Wall time: 5min\n"
          ],
          "name": "stdout"
        }
      ]
    },
    {
      "cell_type": "code",
      "metadata": {
        "colab": {
          "base_uri": "https://localhost:8080/"
        },
        "id": "IdUzcjNIxVMX",
        "outputId": "61356573-97d7-493a-b213-6c7e2b590f79"
      },
      "source": [
        "%%time\n",
        "# Let's try to increase a maximum depth\n",
        "xgb = XGBClassifier(n_estimators=200, max_depth=7, scale_pos_weight=weight, n_jobs=-1, random_state=42)\n",
        "xgb.fit(X_train, y_train)\n",
        "result(xgb, name='XGB Classifier', x_test=X_test, y_test=y_test)"
      ],
      "execution_count": null,
      "outputs": [
        {
          "output_type": "stream",
          "text": [
            "The model used : XGB Classifier\n",
            "AUPRC : 0.9999894224292579\n",
            "The accuracy : 0.9999989061893277\n",
            "The precision : 0.9997904003353595\n",
            "The recall : 1.0\n",
            "F1 - score : 0.9998951891835237\n",
            "The Matthews correlation coefficient : 0.9998946449593018\n",
            "Confusion_matrix :\n",
            "[[909464      1]\n",
            " [     0   4770]]\n",
            "CPU times: user 20min 58s, sys: 591 ms, total: 20min 58s\n",
            "Wall time: 10min 41s\n"
          ],
          "name": "stdout"
        }
      ]
    },
    {
      "cell_type": "markdown",
      "metadata": {
        "id": "zLUV2pQVx2JS"
      },
      "source": [
        "We managed to get a better result, but it takes longer than LGBM with comparable quality.\n",
        "\n",
        "Let's try to change the test size and see the results."
      ]
    },
    {
      "cell_type": "code",
      "metadata": {
        "id": "IdP_Vli7xT1R"
      },
      "source": [
        "X_train, X_test, y_train, y_test = train_test_split(X, y, test_size=0.5, shuffle=False)\n",
        "X_train = Sc.fit_transform(X_train)\n",
        "X_test = Sc.transform(X_test)"
      ],
      "execution_count": null,
      "outputs": []
    },
    {
      "cell_type": "code",
      "metadata": {
        "colab": {
          "base_uri": "https://localhost:8080/"
        },
        "id": "lxbHult7x1ID",
        "outputId": "62811ead-876d-4efb-9f5c-bb0492d9904f"
      },
      "source": [
        "%%time\n",
        "lgbm = LGBMClassifier(n_estimators=200, max_depth=3, class_weight='balanced', n_jobs=-1, random_state=42)\n",
        "lgbm.fit(X_train, y_train)\n",
        "result(lgbm, name='LGBM Classifier', x_test=X_test, y_test=y_test)"
      ],
      "execution_count": null,
      "outputs": [
        {
          "output_type": "stream",
          "text": [
            "The model used : LGBM Classifier\n",
            "AUPRC : 0.999660140800505\n",
            "The accuracy : 0.9999704014929198\n",
            "The precision : 0.9933656087502242\n",
            "The recall : 0.9992784992784993\n",
            "F1 - score : 0.99631328117975\n",
            "The Matthews correlation coefficient : 0.9963028441815789\n",
            "Confusion_matrix :\n",
            "[[1379624      37]\n",
            " [      4    5540]]\n",
            "CPU times: user 1min 3s, sys: 81.7 ms, total: 1min 3s\n",
            "Wall time: 34.8 s\n"
          ],
          "name": "stdout"
        }
      ]
    },
    {
      "cell_type": "code",
      "metadata": {
        "colab": {
          "base_uri": "https://localhost:8080/"
        },
        "id": "NEzRPnW50KsY",
        "outputId": "de70d8e5-a268-46d1-f9e6-936ed872f606"
      },
      "source": [
        "%%time\n",
        "weight = ((y == 0).sum() / (y == 1).sum())\n",
        "xgb = XGBClassifier(n_estimators=200, max_depth=7, scale_pos_weight=weight, n_jobs=-1, random_state=42)\n",
        "xgb.fit(X_train, y_train)\n",
        "result(xgb, name='XGB Classifier',x_test=X_test, y_test=y_test)"
      ],
      "execution_count": null,
      "outputs": [
        {
          "output_type": "stream",
          "text": [
            "The model used : XGB Classifier\n",
            "AUPRC : 0.9998024795096024\n",
            "The accuracy : 0.9999935027667385\n",
            "The precision : 0.9996389239935006\n",
            "The recall : 0.9987373737373737\n",
            "F1 - score : 0.9991879455021203\n",
            "The Matthews correlation coefficient : 0.999184786337675\n",
            "Confusion_matrix :\n",
            "[[1379659       2]\n",
            " [      7    5537]]\n",
            "CPU times: user 15min 25s, sys: 472 ms, total: 15min 25s\n",
            "Wall time: 7min 51s\n"
          ],
          "name": "stdout"
        }
      ]
    },
    {
      "cell_type": "code",
      "metadata": {
        "id": "hWXyDc7a3UWr"
      },
      "source": [
        "X_train, X_test, y_train, y_test = train_test_split(X, y, test_size=0.4, shuffle=False)\n",
        "X_train = Sc.fit_transform(X_train)\n",
        "X_test = Sc.transform(X_test)"
      ],
      "execution_count": null,
      "outputs": []
    },
    {
      "cell_type": "code",
      "metadata": {
        "colab": {
          "base_uri": "https://localhost:8080/"
        },
        "id": "rBUBgmheyFVj",
        "outputId": "244c14ca-3b1d-4688-922f-7e539320c557"
      },
      "source": [
        "%%time\n",
        "lgbm = LGBMClassifier(n_estimators=200, max_depth=3, class_weight='balanced', n_jobs=-1, random_state=42)\n",
        "lgbm.fit(X_train, y_train)\n",
        "result(lgbm, name='LGBM Classifier', x_test=X_test, y_test=y_test)"
      ],
      "execution_count": null,
      "outputs": [
        {
          "output_type": "stream",
          "text": [
            "The model used : LGBM Classifier\n",
            "AUPRC : 0.999867098784605\n",
            "The accuracy : 0.9999927808519317\n",
            "The precision : 0.9988090512107979\n",
            "The recall : 0.9996027016289233\n",
            "F1 - score : 0.9992057188244639\n",
            "The Matthews correlation coefficient : 0.99920217229108\n",
            "Confusion_matrix :\n",
            "[[1103124       6]\n",
            " [      2    5032]]\n",
            "CPU times: user 1min 5s, sys: 80.8 ms, total: 1min 5s\n",
            "Wall time: 35.3 s\n"
          ],
          "name": "stdout"
        }
      ]
    },
    {
      "cell_type": "code",
      "metadata": {
        "id": "LudLEiWH3W8J",
        "colab": {
          "base_uri": "https://localhost:8080/"
        },
        "outputId": "eaee8a51-a45a-4bc6-c6b4-1b9138736e0f"
      },
      "source": [
        "%%time\n",
        "lgbm = LGBMClassifier(n_estimators=400, max_depth=7, class_weight='balanced', n_jobs=-1, random_state=42)\n",
        "lgbm.fit(X_train, y_train)\n",
        "result(lgbm, name='LGBM Classifier', x_test=X_test, y_test=y_test)"
      ],
      "execution_count": null,
      "outputs": [
        {
          "output_type": "stream",
          "text": [
            "The model used : LGBM Classifier\n",
            "AUPRC : 0.9999701546076585\n",
            "The accuracy : 0.9999972928194744\n",
            "The precision : 0.9998013113451222\n",
            "The recall : 0.9996027016289233\n",
            "F1 - score : 0.9997019966226283\n",
            "The Matthews correlation coefficient : 0.9997006418333539\n",
            "Confusion_matrix :\n",
            "[[1103129       1]\n",
            " [      2    5032]]\n",
            "CPU times: user 3min 9s, sys: 222 ms, total: 3min 10s\n",
            "Wall time: 1min 39s\n"
          ],
          "name": "stdout"
        }
      ]
    },
    {
      "cell_type": "code",
      "metadata": {
        "colab": {
          "base_uri": "https://localhost:8080/"
        },
        "id": "5YUUN0WUCH3l",
        "outputId": "bd338f45-b908-4e64-82e0-b928ae107220"
      },
      "source": [
        "%%time\n",
        "xgb = XGBClassifier(n_estimators=200, max_depth=7, scale_pos_weight=weight, n_jobs=-1, random_state=42)\n",
        "xgb.fit(X_train, y_train)\n",
        "result(xgb, name='XGB Classifier',x_test=X_test, y_test=y_test)"
      ],
      "execution_count": null,
      "outputs": [
        {
          "output_type": "stream",
          "text": [
            "The model used : XGB Classifier\n",
            "AUPRC : 0.9999866046121644\n",
            "The accuracy : 0.9999990976064914\n",
            "The precision : 1.0\n",
            "The recall : 0.9998013508144616\n",
            "F1 - score : 0.9999006655408761\n",
            "The Matthews correlation coefficient : 0.9999002172636473\n",
            "Confusion_matrix :\n",
            "[[1103130       0]\n",
            " [      1    5033]]\n",
            "CPU times: user 19min 59s, sys: 587 ms, total: 19min 59s\n",
            "Wall time: 10min 11s\n"
          ],
          "name": "stdout"
        }
      ]
    },
    {
      "cell_type": "markdown",
      "metadata": {
        "id": "6pPOxuGSZHoX"
      },
      "source": [
        "\n",
        "Because earlier I assumed that the loss of funds is stronger with FP than with FN, we managed to get a slightly better result for XGB with test_size = 0.4, n_estimators = 200, max_depth = 7. However, the training of this model is heavily time consuming. That's why XGB is discarded.\n",
        "\n",
        "Now let's look at a random forest"
      ]
    },
    {
      "cell_type": "code",
      "metadata": {
        "colab": {
          "base_uri": "https://localhost:8080/"
        },
        "id": "-lCP5-EqL61c",
        "outputId": "b40726fc-49a0-4243-be44-a2112fc68b42"
      },
      "source": [
        "%%time\n",
        "rf =  RandomForestClassifier(n_jobs = -1, random_state=42)\n",
        "rf.fit(X_train, y_train)\n",
        "result(rf, name='Random Forest Classidie', x_test=X_test, y_test=y_test)"
      ],
      "execution_count": null,
      "outputs": [
        {
          "output_type": "stream",
          "text": [
            "The model used : Random Forest Classidie\n",
            "AUPRC : 0.9999998028178297\n",
            "The accuracy : 0.9999981952129829\n",
            "The precision : 0.9998013508144616\n",
            "The recall : 0.9998013508144616\n",
            "F1 - score : 0.9998013508144616\n",
            "The Matthews correlation coefficient : 0.9998004443029898\n",
            "Confusion_matrix :\n",
            "[[1103129       1]\n",
            " [      1    5033]]\n",
            "CPU times: user 11min 42s, sys: 727 ms, total: 11min 42s\n",
            "Wall time: 5min 58s\n"
          ],
          "name": "stdout"
        }
      ]
    },
    {
      "cell_type": "code",
      "metadata": {
        "colab": {
          "base_uri": "https://localhost:8080/"
        },
        "id": "uEeCXJhccgpz",
        "outputId": "de9ec6dc-2a18-4bb9-bdc0-635b171c6674"
      },
      "source": [
        "%%time\n",
        "rf =  RandomForestClassifier(class_weight=\"balanced\", n_jobs = -1, random_state=42)\n",
        "rf.fit(X_train, y_train)\n",
        "result(rf, name='Random Forest Classidie', x_test=X_test, y_test=y_test)"
      ],
      "execution_count": null,
      "outputs": [
        {
          "output_type": "stream",
          "text": [
            "The model used : Random Forest Classidie\n",
            "AUPRC : 0.9999998421775073\n",
            "The accuracy : 0.9999981952129829\n",
            "The precision : 0.9998013508144616\n",
            "The recall : 0.9998013508144616\n",
            "F1 - score : 0.9998013508144616\n",
            "The Matthews correlation coefficient : 0.9998004443029898\n",
            "Confusion_matrix :\n",
            "[[1103129       1]\n",
            " [      1    5033]]\n",
            "CPU times: user 8min 38s, sys: 715 ms, total: 8min 38s\n",
            "Wall time: 4min 27s\n"
          ],
          "name": "stdout"
        }
      ]
    },
    {
      "cell_type": "markdown",
      "metadata": {
        "id": "RV03j6Qpa0tP"
      },
      "source": [
        "The quality of random forest is comparable to LGBM, but it is also slower than LGBM, just as XGB. So, the random forest is also discarded.\n",
        "\n",
        "Looking at BaggingClassifier"
      ]
    },
    {
      "cell_type": "code",
      "metadata": {
        "colab": {
          "base_uri": "https://localhost:8080/"
        },
        "id": "ap-eSIHUigsb",
        "outputId": "028d4881-a0be-4d53-e514-9e84d97107c5"
      },
      "source": [
        "%%time\n",
        "bc = BaggingClassifier(n_jobs=-1, random_state=42)\n",
        "bc.fit(X_train, y_train)\n",
        "result(bc, name='Bagging Classifier', x_test=X_test, y_test=y_test)"
      ],
      "execution_count": null,
      "outputs": [
        {
          "output_type": "stream",
          "text": [
            "The model used : Bagging Classifier\n",
            "AUPRC : 0.9998006407735722\n",
            "The accuracy : 0.9999981952129829\n",
            "The precision : 0.9998013508144616\n",
            "The recall : 0.9998013508144616\n",
            "F1 - score : 0.9998013508144616\n",
            "The Matthews correlation coefficient : 0.9998004443029898\n",
            "Confusion_matrix :\n",
            "[[1103129       1]\n",
            " [      1    5033]]\n",
            "CPU times: user 3.87 s, sys: 537 ms, total: 4.4 s\n",
            "Wall time: 1min 43s\n"
          ],
          "name": "stdout"
        }
      ]
    },
    {
      "cell_type": "code",
      "metadata": {
        "id": "ZLVHoD-C6gYk",
        "colab": {
          "base_uri": "https://localhost:8080/"
        },
        "outputId": "257c254b-f55c-48a7-91c6-e91a2e32fe1d"
      },
      "source": [
        "%%time\n",
        "# Let's try to increase a decision trees in the ensemble\n",
        "bc = BaggingClassifier(n_estimators=100, n_jobs=-1, random_state=42)\n",
        "bc.fit(X_train, y_train)\n",
        "result(bc, name='Bagging Classifier', x_test=X_test, y_test=y_test)"
      ],
      "execution_count": null,
      "outputs": [
        {
          "output_type": "stream",
          "text": [
            "The model used : Bagging Classifier\n",
            "AUPRC : 0.9998008771511446\n",
            "The accuracy : 0.9999990976064914\n",
            "The precision : 0.9998013902681231\n",
            "The recall : 1.0\n",
            "F1 - score : 0.9999006852716258\n",
            "The Matthews correlation coefficient : 0.9999002369920177\n",
            "Confusion_matrix :\n",
            "[[1103129       1]\n",
            " [      0    5034]]\n",
            "CPU times: user 4.08 s, sys: 225 ms, total: 4.3 s\n",
            "Wall time: 15min 32s\n"
          ],
          "name": "stdout"
        }
      ]
    },
    {
      "cell_type": "code",
      "metadata": {
        "colab": {
          "base_uri": "https://localhost:8080/"
        },
        "id": "U87p7N9YxqUI",
        "outputId": "0682d902-0206-441b-d270-74de6dc10372"
      },
      "source": [
        "%%time\n",
        "# Let's try to decrease a decision trees in the ensemble and number of features in each base estimator\n",
        "bc = BaggingClassifier(n_estimators=5, max_features=0.5, n_jobs=-1, random_state=42)\n",
        "bc.fit(X_train, y_train)\n",
        "result(bc, name='Bagging Classifier', x_test=X_test, y_test=y_test)"
      ],
      "execution_count": null,
      "outputs": [
        {
          "output_type": "stream",
          "text": [
            "The model used : Bagging Classifier\n",
            "AUPRC : 0.99989873432761\n",
            "The accuracy : 0.9999990976064914\n",
            "The precision : 0.9998013902681231\n",
            "The recall : 1.0\n",
            "F1 - score : 0.9999006852716258\n",
            "The Matthews correlation coefficient : 0.9999002369920177\n",
            "Confusion_matrix :\n",
            "[[1103129       1]\n",
            " [      0    5034]]\n",
            "CPU times: user 3.88 s, sys: 200 ms, total: 4.08 s\n",
            "Wall time: 37.4 s\n"
          ],
          "name": "stdout"
        }
      ]
    },
    {
      "cell_type": "code",
      "metadata": {
        "colab": {
          "base_uri": "https://localhost:8080/",
          "height": 1000
        },
        "id": "Fzh_uXglfdqn",
        "outputId": "a1cb2dc9-e859-411c-9df9-89f25bf383e1"
      },
      "source": [
        "for tree in bc.estimators_:\n",
        "    importance_scores = tree.feature_importances_\n",
        "    temp = np.argsort(importance_scores)\n",
        "    plt.barh(X.columns[temp], importance_scores[temp])\n",
        "    plt.show()"
      ],
      "execution_count": null,
      "outputs": [
        {
          "output_type": "display_data",
          "data": {
            "image/png": "[encoded data removed]",
            "text/plain": [
              "<Figure size 432x288 with 1 Axes>"
            ]
          },
          "metadata": {
            "tags": [],
            "needs_background": "light"
          }
        },
        {
          "output_type": "display_data",
          "data": {
            "image/png": "[encoded data removed]",
            "text/plain": [
              "<Figure size 432x288 with 1 Axes>"
            ]
          },
          "metadata": {
            "tags": [],
            "needs_background": "light"
          }
        },
        {
          "output_type": "display_data",
          "data": {
            "image/png": "[encoded data removed]",
            "text/plain": [
              "<Figure size 432x288 with 1 Axes>"
            ]
          },
          "metadata": {
            "tags": [],
            "needs_background": "light"
          }
        },
        {
          "output_type": "display_data",
          "data": {
            "image/png": "[encoded data removed]",
            "text/plain": [
              "<Figure size 432x288 with 1 Axes>"
            ]
          },
          "metadata": {
            "tags": [],
            "needs_background": "light"
          }
        },
        {
          "output_type": "display_data",
          "data": {
            "image/png": "[encoded data removed]",
            "text/plain": [
              "<Figure size 432x288 with 1 Axes>"
            ]
          },
          "metadata": {
            "tags": [],
            "needs_background": "light"
          }
        }
      ]
    },
    {
      "cell_type": "markdown",
      "metadata": {
        "id": "Yc6FIz2terK0"
      },
      "source": [
        " \n",
        "The Bagging Classifier demonstraited excellent results and turned out to be the best model in terms of the execution speed and quality."
      ]
    },
    {
      "cell_type": "markdown",
      "metadata": {
        "id": "oza8Ka3Wk0Ia"
      },
      "source": [
        "# **Conclusion:**\n",
        "A detailed research of the data made it possible to remove unnecessary features and add new useful ones.\n",
        "\n",
        "The graphs showed that the resulting data set is able to separate fraudulent transactions from valid ones.\n",
        "\n",
        "Focusing on FP and FN due to highly imbalanced data, and not being able to consult with people from business about possible losses due to incorrect predictions, it was assumed that the FP result would bring greater losses than FN. Therefore, with other metrics being alike, we choice the model with the lowest FP result. \n",
        "\n",
        "As expected, models based on an ensemble of decision trees performed great on unbalanced data. It was concluded that the Bagging Classifier had the best result at this stage.\n",
        "\n",
        "# The best model was based on:\n",
        "\n",
        "test_size=0.4 in train_test_split\n",
        "\n",
        "n_estimators=5, max_features=0.5\n",
        "\n",
        "# Result:\n",
        "\n",
        "AUPRC : 0.99989873432761\n",
        "\n",
        "The Matthews correlation coefficient : 0.9999002369920177\n",
        "\n",
        "FP = 1, FN = 0\n",
        "\n",
        "Elapsed time: ~39 sec\n",
        "\n",
        "\n",
        "# Possible ways of improvement:\n",
        "\n",
        "Consultations with people from business,\n",
        "\n",
        "Oversampling and undersampling,\n",
        "\n",
        "Stacking techniques,\n",
        "\n",
        "Threshold for classifier."
      ]
    }
  ]
}
