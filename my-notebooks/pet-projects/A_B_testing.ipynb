{
  "nbformat": 4,
  "nbformat_minor": 0,
  "metadata": {
    "colab": {
      "name": "A/B testing",
      "provenance": [],
      "collapsed_sections": []
    },
    "kernelspec": {
      "display_name": "Python 3",
      "language": "python",
      "name": "python3"
    },
    "language_info": {
      "codemirror_mode": {
        "name": "ipython",
        "version": 3
      },
      "file_extension": ".py",
      "mimetype": "text/x-python",
      "name": "python",
      "nbconvert_exporter": "python",
      "pygments_lexer": "ipython3",
      "version": "3.6.8"
    }
  },
  "cells": [
    {
      "cell_type": "code",
      "metadata": {
        "id": "NSjsv4w7ejYS"
      },
      "source": [
        "import pandas as pd\r\n",
        "import numpy as np\r\n",
        "import scipy.stats"
      ],
      "execution_count": null,
      "outputs": []
    },
    {
      "cell_type": "code",
      "metadata": {
        "colab": {
          "base_uri": "https://localhost:8080/",
          "height": 204
        },
        "id": "NqNNKqDhh85e",
        "outputId": "4afa80c8-2f93-4ecd-f921-991f09701802"
      },
      "source": [
        "data = pd.read_csv('https://github.com/Enzuigirii/Main/raw/main/my-notebooks/data/ab_data.zip')\r\n",
        "data.head()"
      ],
      "execution_count": null,
      "outputs": [
        {
          "output_type": "execute_result",
          "data": {
            "text/html": [
              "<div>\n",
              "<style scoped>\n",
              "    .dataframe tbody tr th:only-of-type {\n",
              "        vertical-align: middle;\n",
              "    }\n",
              "\n",
              "    .dataframe tbody tr th {\n",
              "        vertical-align: top;\n",
              "    }\n",
              "\n",
              "    .dataframe thead th {\n",
              "        text-align: right;\n",
              "    }\n",
              "</style>\n",
              "<table border=\"1\" class=\"dataframe\">\n",
              "  <thead>\n",
              "    <tr style=\"text-align: right;\">\n",
              "      <th></th>\n",
              "      <th>user_id</th>\n",
              "      <th>timestamp</th>\n",
              "      <th>group</th>\n",
              "      <th>landing_page</th>\n",
              "      <th>converted</th>\n",
              "    </tr>\n",
              "  </thead>\n",
              "  <tbody>\n",
              "    <tr>\n",
              "      <th>0</th>\n",
              "      <td>851104</td>\n",
              "      <td>2017-01-21 22:11:48.556739</td>\n",
              "      <td>control</td>\n",
              "      <td>old_page</td>\n",
              "      <td>0</td>\n",
              "    </tr>\n",
              "    <tr>\n",
              "      <th>1</th>\n",
              "      <td>804228</td>\n",
              "      <td>2017-01-12 08:01:45.159739</td>\n",
              "      <td>control</td>\n",
              "      <td>old_page</td>\n",
              "      <td>0</td>\n",
              "    </tr>\n",
              "    <tr>\n",
              "      <th>2</th>\n",
              "      <td>661590</td>\n",
              "      <td>2017-01-11 16:55:06.154213</td>\n",
              "      <td>treatment</td>\n",
              "      <td>new_page</td>\n",
              "      <td>0</td>\n",
              "    </tr>\n",
              "    <tr>\n",
              "      <th>3</th>\n",
              "      <td>853541</td>\n",
              "      <td>2017-01-08 18:28:03.143765</td>\n",
              "      <td>treatment</td>\n",
              "      <td>new_page</td>\n",
              "      <td>0</td>\n",
              "    </tr>\n",
              "    <tr>\n",
              "      <th>4</th>\n",
              "      <td>864975</td>\n",
              "      <td>2017-01-21 01:52:26.210827</td>\n",
              "      <td>control</td>\n",
              "      <td>old_page</td>\n",
              "      <td>1</td>\n",
              "    </tr>\n",
              "  </tbody>\n",
              "</table>\n",
              "</div>"
            ],
            "text/plain": [
              "   user_id                   timestamp      group landing_page  converted\n",
              "0   851104  2017-01-21 22:11:48.556739    control     old_page          0\n",
              "1   804228  2017-01-12 08:01:45.159739    control     old_page          0\n",
              "2   661590  2017-01-11 16:55:06.154213  treatment     new_page          0\n",
              "3   853541  2017-01-08 18:28:03.143765  treatment     new_page          0\n",
              "4   864975  2017-01-21 01:52:26.210827    control     old_page          1"
            ]
          },
          "metadata": {
            "tags": []
          },
          "execution_count": 30
        }
      ]
    },
    {
      "cell_type": "code",
      "metadata": {
        "colab": {
          "base_uri": "https://localhost:8080/"
        },
        "id": "vAjMAsEF1WLV",
        "outputId": "4859445e-b6b1-4b59-8174-2f4e9b9421db"
      },
      "source": [
        "data.info()"
      ],
      "execution_count": null,
      "outputs": [
        {
          "output_type": "stream",
          "text": [
            "<class 'pandas.core.frame.DataFrame'>\n",
            "RangeIndex: 294478 entries, 0 to 294477\n",
            "Data columns (total 5 columns):\n",
            " #   Column        Non-Null Count   Dtype \n",
            "---  ------        --------------   ----- \n",
            " 0   user_id       294478 non-null  int64 \n",
            " 1   timestamp     294478 non-null  object\n",
            " 2   group         294478 non-null  object\n",
            " 3   landing_page  294478 non-null  object\n",
            " 4   converted     294478 non-null  int64 \n",
            "dtypes: int64(2), object(3)\n",
            "memory usage: 11.2+ MB\n"
          ],
          "name": "stdout"
        }
      ]
    },
    {
      "cell_type": "code",
      "metadata": {
        "colab": {
          "base_uri": "https://localhost:8080/"
        },
        "id": "s-BelwzpH_x6",
        "outputId": "9621ef25-1a6a-45a5-9936-d4bae95961c8"
      },
      "source": [
        "data.group.unique()"
      ],
      "execution_count": null,
      "outputs": [
        {
          "output_type": "execute_result",
          "data": {
            "text/plain": [
              "array(['control', 'treatment'], dtype=object)"
            ]
          },
          "metadata": {
            "tags": []
          },
          "execution_count": 32
        }
      ]
    },
    {
      "cell_type": "code",
      "metadata": {
        "colab": {
          "base_uri": "https://localhost:8080/",
          "height": 142
        },
        "id": "ymFkqipE6Sv3",
        "outputId": "20a709ae-ab51-419b-b1fc-41138dca3a95"
      },
      "source": [
        "pivot_table = pd.pivot_table(data, values='user_id', index='landing_page', columns='group', aggfunc=np.count_nonzero)\r\n",
        "pivot_table"
      ],
      "execution_count": null,
      "outputs": [
        {
          "output_type": "execute_result",
          "data": {
            "text/html": [
              "<div>\n",
              "<style scoped>\n",
              "    .dataframe tbody tr th:only-of-type {\n",
              "        vertical-align: middle;\n",
              "    }\n",
              "\n",
              "    .dataframe tbody tr th {\n",
              "        vertical-align: top;\n",
              "    }\n",
              "\n",
              "    .dataframe thead th {\n",
              "        text-align: right;\n",
              "    }\n",
              "</style>\n",
              "<table border=\"1\" class=\"dataframe\">\n",
              "  <thead>\n",
              "    <tr style=\"text-align: right;\">\n",
              "      <th>group</th>\n",
              "      <th>control</th>\n",
              "      <th>treatment</th>\n",
              "    </tr>\n",
              "    <tr>\n",
              "      <th>landing_page</th>\n",
              "      <th></th>\n",
              "      <th></th>\n",
              "    </tr>\n",
              "  </thead>\n",
              "  <tbody>\n",
              "    <tr>\n",
              "      <th>new_page</th>\n",
              "      <td>1928</td>\n",
              "      <td>145311</td>\n",
              "    </tr>\n",
              "    <tr>\n",
              "      <th>old_page</th>\n",
              "      <td>145274</td>\n",
              "      <td>1965</td>\n",
              "    </tr>\n",
              "  </tbody>\n",
              "</table>\n",
              "</div>"
            ],
            "text/plain": [
              "group         control  treatment\n",
              "landing_page                    \n",
              "new_page         1928     145311\n",
              "old_page       145274       1965"
            ]
          },
          "metadata": {
            "tags": []
          },
          "execution_count": 33
        }
      ]
    },
    {
      "cell_type": "code",
      "metadata": {
        "colab": {
          "base_uri": "https://localhost:8080/"
        },
        "id": "n-Qy1eYUJEtD",
        "outputId": "bcbb98e5-f007-453d-b1b1-5b54b57aa76a"
      },
      "source": [
        "drop = data[((data.landing_page == 'new_page') & (data.group == 'control')) | ((data.landing_page == 'old_page') & (data.group == 'treatment'))]\r\n",
        "data = data.drop(drop.index)\r\n",
        "data.shape"
      ],
      "execution_count": null,
      "outputs": [
        {
          "output_type": "execute_result",
          "data": {
            "text/plain": [
              "(290585, 5)"
            ]
          },
          "metadata": {
            "tags": []
          },
          "execution_count": 34
        }
      ]
    },
    {
      "cell_type": "code",
      "metadata": {
        "colab": {
          "base_uri": "https://localhost:8080/",
          "height": 142
        },
        "id": "eAvfbsJ26FqK",
        "outputId": "c4d2318e-682d-461d-cd93-4f1512b3e8ee"
      },
      "source": [
        "pivot_table = pd.pivot_table(data, values='user_id', index='landing_page', columns='group', aggfunc=np.count_nonzero)\r\n",
        "pivot_table"
      ],
      "execution_count": null,
      "outputs": [
        {
          "output_type": "execute_result",
          "data": {
            "text/html": [
              "<div>\n",
              "<style scoped>\n",
              "    .dataframe tbody tr th:only-of-type {\n",
              "        vertical-align: middle;\n",
              "    }\n",
              "\n",
              "    .dataframe tbody tr th {\n",
              "        vertical-align: top;\n",
              "    }\n",
              "\n",
              "    .dataframe thead th {\n",
              "        text-align: right;\n",
              "    }\n",
              "</style>\n",
              "<table border=\"1\" class=\"dataframe\">\n",
              "  <thead>\n",
              "    <tr style=\"text-align: right;\">\n",
              "      <th>group</th>\n",
              "      <th>control</th>\n",
              "      <th>treatment</th>\n",
              "    </tr>\n",
              "    <tr>\n",
              "      <th>landing_page</th>\n",
              "      <th></th>\n",
              "      <th></th>\n",
              "    </tr>\n",
              "  </thead>\n",
              "  <tbody>\n",
              "    <tr>\n",
              "      <th>new_page</th>\n",
              "      <td>NaN</td>\n",
              "      <td>145311.0</td>\n",
              "    </tr>\n",
              "    <tr>\n",
              "      <th>old_page</th>\n",
              "      <td>145274.0</td>\n",
              "      <td>NaN</td>\n",
              "    </tr>\n",
              "  </tbody>\n",
              "</table>\n",
              "</div>"
            ],
            "text/plain": [
              "group          control  treatment\n",
              "landing_page                     \n",
              "new_page           NaN   145311.0\n",
              "old_page      145274.0        NaN"
            ]
          },
          "metadata": {
            "tags": []
          },
          "execution_count": 35
        }
      ]
    },
    {
      "cell_type": "code",
      "metadata": {
        "colab": {
          "base_uri": "https://localhost:8080/",
          "height": 111
        },
        "id": "buGgmv4MRa6j",
        "outputId": "63900922-4ad1-403c-890d-7f1814a87a62"
      },
      "source": [
        "duplicated = data.user_id[data.user_id.duplicated() == True]\r\n",
        "data[data.user_id.isin(duplicated)]"
      ],
      "execution_count": null,
      "outputs": [
        {
          "output_type": "execute_result",
          "data": {
            "text/html": [
              "<div>\n",
              "<style scoped>\n",
              "    .dataframe tbody tr th:only-of-type {\n",
              "        vertical-align: middle;\n",
              "    }\n",
              "\n",
              "    .dataframe tbody tr th {\n",
              "        vertical-align: top;\n",
              "    }\n",
              "\n",
              "    .dataframe thead th {\n",
              "        text-align: right;\n",
              "    }\n",
              "</style>\n",
              "<table border=\"1\" class=\"dataframe\">\n",
              "  <thead>\n",
              "    <tr style=\"text-align: right;\">\n",
              "      <th></th>\n",
              "      <th>user_id</th>\n",
              "      <th>timestamp</th>\n",
              "      <th>group</th>\n",
              "      <th>landing_page</th>\n",
              "      <th>converted</th>\n",
              "    </tr>\n",
              "  </thead>\n",
              "  <tbody>\n",
              "    <tr>\n",
              "      <th>1899</th>\n",
              "      <td>773192</td>\n",
              "      <td>2017-01-09 05:37:58.781806</td>\n",
              "      <td>treatment</td>\n",
              "      <td>new_page</td>\n",
              "      <td>0</td>\n",
              "    </tr>\n",
              "    <tr>\n",
              "      <th>2893</th>\n",
              "      <td>773192</td>\n",
              "      <td>2017-01-14 02:55:59.590927</td>\n",
              "      <td>treatment</td>\n",
              "      <td>new_page</td>\n",
              "      <td>0</td>\n",
              "    </tr>\n",
              "  </tbody>\n",
              "</table>\n",
              "</div>"
            ],
            "text/plain": [
              "      user_id                   timestamp      group landing_page  converted\n",
              "1899   773192  2017-01-09 05:37:58.781806  treatment     new_page          0\n",
              "2893   773192  2017-01-14 02:55:59.590927  treatment     new_page          0"
            ]
          },
          "metadata": {
            "tags": []
          },
          "execution_count": 36
        }
      ]
    },
    {
      "cell_type": "code",
      "metadata": {
        "colab": {
          "base_uri": "https://localhost:8080/"
        },
        "id": "-DwK5KNWetDm",
        "outputId": "cbddd66f-9c0b-4697-f844-abb09f3fc23b"
      },
      "source": [
        "data = data.drop_duplicates(subset='user_id', keep='first')\r\n",
        "data.shape"
      ],
      "execution_count": null,
      "outputs": [
        {
          "output_type": "execute_result",
          "data": {
            "text/plain": [
              "(290584, 5)"
            ]
          },
          "metadata": {
            "tags": []
          },
          "execution_count": 37
        }
      ]
    },
    {
      "cell_type": "code",
      "metadata": {
        "colab": {
          "base_uri": "https://localhost:8080/",
          "height": 142
        },
        "id": "u8wMSCMkPs8H",
        "outputId": "5768391a-b36f-419a-d171-378db29203ac"
      },
      "source": [
        "data.groupby(by='group')['converted'].agg([np.mean, np.std])"
      ],
      "execution_count": null,
      "outputs": [
        {
          "output_type": "execute_result",
          "data": {
            "text/html": [
              "<div>\n",
              "<style scoped>\n",
              "    .dataframe tbody tr th:only-of-type {\n",
              "        vertical-align: middle;\n",
              "    }\n",
              "\n",
              "    .dataframe tbody tr th {\n",
              "        vertical-align: top;\n",
              "    }\n",
              "\n",
              "    .dataframe thead th {\n",
              "        text-align: right;\n",
              "    }\n",
              "</style>\n",
              "<table border=\"1\" class=\"dataframe\">\n",
              "  <thead>\n",
              "    <tr style=\"text-align: right;\">\n",
              "      <th></th>\n",
              "      <th>mean</th>\n",
              "      <th>std</th>\n",
              "    </tr>\n",
              "    <tr>\n",
              "      <th>group</th>\n",
              "      <th></th>\n",
              "      <th></th>\n",
              "    </tr>\n",
              "  </thead>\n",
              "  <tbody>\n",
              "    <tr>\n",
              "      <th>control</th>\n",
              "      <td>0.120386</td>\n",
              "      <td>0.325414</td>\n",
              "    </tr>\n",
              "    <tr>\n",
              "      <th>treatment</th>\n",
              "      <td>0.118808</td>\n",
              "      <td>0.323564</td>\n",
              "    </tr>\n",
              "  </tbody>\n",
              "</table>\n",
              "</div>"
            ],
            "text/plain": [
              "               mean       std\n",
              "group                        \n",
              "control    0.120386  0.325414\n",
              "treatment  0.118808  0.323564"
            ]
          },
          "metadata": {
            "tags": []
          },
          "execution_count": 38
        }
      ]
    },
    {
      "cell_type": "markdown",
      "metadata": {
        "id": "AJXGWJGmSg-a"
      },
      "source": [
        "Судя по статистике, новый дизайн, работал немного хуже. \r\n",
        "\r\n",
        "Примем за нулевую гипотезу, что вероятность конверсии нового и старого дизайна не отличаются. Уровень достоверности выберем 95% (α = 0.05)"
      ]
    },
    {
      "cell_type": "code",
      "metadata": {
        "colab": {
          "base_uri": "https://localhost:8080/",
          "height": 204
        },
        "id": "9j35K0xewr65",
        "outputId": "b3f134d7-0e06-44c0-ef51-4081124a1bc6"
      },
      "source": [
        "data.groupby(by=['converted', 'group', 'landing_page']).count()"
      ],
      "execution_count": null,
      "outputs": [
        {
          "output_type": "execute_result",
          "data": {
            "text/html": [
              "<div>\n",
              "<style scoped>\n",
              "    .dataframe tbody tr th:only-of-type {\n",
              "        vertical-align: middle;\n",
              "    }\n",
              "\n",
              "    .dataframe tbody tr th {\n",
              "        vertical-align: top;\n",
              "    }\n",
              "\n",
              "    .dataframe thead th {\n",
              "        text-align: right;\n",
              "    }\n",
              "</style>\n",
              "<table border=\"1\" class=\"dataframe\">\n",
              "  <thead>\n",
              "    <tr style=\"text-align: right;\">\n",
              "      <th></th>\n",
              "      <th></th>\n",
              "      <th></th>\n",
              "      <th>user_id</th>\n",
              "      <th>timestamp</th>\n",
              "    </tr>\n",
              "    <tr>\n",
              "      <th>converted</th>\n",
              "      <th>group</th>\n",
              "      <th>landing_page</th>\n",
              "      <th></th>\n",
              "      <th></th>\n",
              "    </tr>\n",
              "  </thead>\n",
              "  <tbody>\n",
              "    <tr>\n",
              "      <th rowspan=\"2\" valign=\"top\">0</th>\n",
              "      <th>control</th>\n",
              "      <th>old_page</th>\n",
              "      <td>127785</td>\n",
              "      <td>127785</td>\n",
              "    </tr>\n",
              "    <tr>\n",
              "      <th>treatment</th>\n",
              "      <th>new_page</th>\n",
              "      <td>128046</td>\n",
              "      <td>128046</td>\n",
              "    </tr>\n",
              "    <tr>\n",
              "      <th rowspan=\"2\" valign=\"top\">1</th>\n",
              "      <th>control</th>\n",
              "      <th>old_page</th>\n",
              "      <td>17489</td>\n",
              "      <td>17489</td>\n",
              "    </tr>\n",
              "    <tr>\n",
              "      <th>treatment</th>\n",
              "      <th>new_page</th>\n",
              "      <td>17264</td>\n",
              "      <td>17264</td>\n",
              "    </tr>\n",
              "  </tbody>\n",
              "</table>\n",
              "</div>"
            ],
            "text/plain": [
              "                                  user_id  timestamp\n",
              "converted group     landing_page                    \n",
              "0         control   old_page       127785     127785\n",
              "          treatment new_page       128046     128046\n",
              "1         control   old_page        17489      17489\n",
              "          treatment new_page        17264      17264"
            ]
          },
          "metadata": {
            "tags": []
          },
          "execution_count": 39
        }
      ]
    },
    {
      "cell_type": "code",
      "metadata": {
        "colab": {
          "base_uri": "https://localhost:8080/"
        },
        "id": "D_f0yR7BzMOe",
        "outputId": "51ae041a-b955-4011-fc12-9b498d689510"
      },
      "source": [
        "control = data[data.group == 'control'] \r\n",
        "treatment = data[data.group == 'treatment']\r\n",
        "\r\n",
        "control_click = control.converted.sum() \r\n",
        "control_noclick = control.converted.size - control.converted.sum() \r\n",
        "treatment_click = treatment.converted.sum() \r\n",
        "treatment_noclick = treatment.converted.size - treatment.converted.sum()\r\n",
        "\r\n",
        "data = np.array([[control_noclick, control_click], [treatment_noclick, treatment_click]])\r\n",
        "data"
      ],
      "execution_count": null,
      "outputs": [
        {
          "output_type": "execute_result",
          "data": {
            "text/plain": [
              "array([[127785,  17489],\n",
              "       [128046,  17264]])"
            ]
          },
          "metadata": {
            "tags": []
          },
          "execution_count": 40
        }
      ]
    },
    {
      "cell_type": "markdown",
      "metadata": {
        "id": "U9pDvKlQ0NK4"
      },
      "source": [
        "# Chi-Squared Test"
      ]
    },
    {
      "cell_type": "code",
      "metadata": {
        "colab": {
          "base_uri": "https://localhost:8080/"
        },
        "id": "P-50pawY3o_5",
        "outputId": "09ff5def-2037-4214-aafd-fc48d54352fb"
      },
      "source": [
        "dof = data.size - sum(data.shape) + data.ndim - 1\r\n",
        "dof"
      ],
      "execution_count": null,
      "outputs": [
        {
          "output_type": "execute_result",
          "data": {
            "text/plain": [
              "1"
            ]
          },
          "metadata": {
            "tags": []
          },
          "execution_count": 41
        }
      ]
    },
    {
      "cell_type": "code",
      "metadata": {
        "colab": {
          "base_uri": "https://localhost:8080/"
        },
        "id": "ZHpFrcrY4BNP",
        "outputId": "7da0155b-6f86-446e-b758-a7fd0bb00307"
      },
      "source": [
        "total = data.sum()\r\n",
        "\r\n",
        "expected_values = np.array([[(data[0].sum() * (data[0][0] + data[1][0]) / total), \r\n",
        "                             (data[0].sum() * (data[0][1] + data[1][1]) / total)], \r\n",
        "                            [(data[1].sum() * (data[0][0] + data[1][0]) / total), \r\n",
        "                             (data[1].sum() * (data[0][1] + data[1][1]) / total)]])\r\n",
        "\r\n",
        "chi_squared = ((data[0][0] - expected_values[0][0])**2 / expected_values[0][0]) \\\r\n",
        "               + ((data[0][1] - expected_values[0][1])**2 / expected_values[0][1]) \\\r\n",
        "               + ((data[1][0] - expected_values[1][0])**2 / expected_values[1][0]) \\\r\n",
        "               + ((data[1][1] - expected_values[1][1])**2 / expected_values[1][1])\r\n",
        "chi_squared"
      ],
      "execution_count": null,
      "outputs": [
        {
          "output_type": "execute_result",
          "data": {
            "text/plain": [
              "1.7185222540121272"
            ]
          },
          "metadata": {
            "tags": []
          },
          "execution_count": 42
        }
      ]
    },
    {
      "cell_type": "code",
      "metadata": {
        "colab": {
          "base_uri": "https://localhost:8080/"
        },
        "id": "XreLdLNUD_7D",
        "outputId": "c543e472-612f-4c8d-c66b-dbf553e371ab"
      },
      "source": [
        "chi, p = scipy.stats.chi2_contingency(data, correction = False)[:2]\r\n",
        "\r\n",
        "print('chi statistic:', chi)\r\n",
        "print('p-value:', p)"
      ],
      "execution_count": null,
      "outputs": [
        {
          "output_type": "stream",
          "text": [
            "chi statistic: 1.7185222540121272\n",
            "p-value: 0.18988337448194853\n"
          ],
          "name": "stdout"
        }
      ]
    },
    {
      "cell_type": "markdown",
      "metadata": {
        "id": "b91kqNoR5msL"
      },
      "source": [
        "Предположив уровень значимости в 5%, мы не можем отклонить нулевую гипотезу, поскольку p > α. Следовательно нет значительной разницы между стырам и новым дизайном."
      ]
    },
    {
      "cell_type": "code",
      "metadata": {
        "colab": {
          "base_uri": "https://localhost:8080/"
        },
        "id": "L6i6zhZsGFvw",
        "outputId": "d8fa08b0-1ae0-4c0f-9f21-c75e2b8fe130"
      },
      "source": [
        "control_ctr = control_click / (control_click + control_noclick) \r\n",
        "treatment_ctr = treatment_click / (treatment_click + treatment_noclick) \r\n",
        "print(control_ctr, treatment_ctr)\r\n"
      ],
      "execution_count": null,
      "outputs": [
        {
          "output_type": "stream",
          "text": [
            "0.1203863045004612 0.11880806551510564\n"
          ],
          "name": "stdout"
        }
      ]
    },
    {
      "cell_type": "markdown",
      "metadata": {
        "id": "qzj74r-dF1Jj"
      },
      "source": [
        "При ручной проверке так же заметно, что нет сильной разницы"
      ]
    },
    {
      "cell_type": "markdown",
      "metadata": {
        "id": "JymJyU3ETHO5"
      },
      "source": [
        "# Z-test"
      ]
    },
    {
      "cell_type": "code",
      "metadata": {
        "colab": {
          "base_uri": "https://localhost:8080/"
        },
        "id": "vCmkvGNBcqnv",
        "outputId": "09fd35fc-4279-4af5-9b73-6e934a19638d"
      },
      "source": [
        "from statsmodels.stats.proportion import proportions_ztest, proportion_confint\r\n",
        "\r\n",
        "\r\n",
        "n_con = control.converted.count()\r\n",
        "n_treat = treatment.converted.count()\r\n",
        "\r\n",
        "successes = [control_click, treatment_click]\r\n",
        "nobs = [n_con, n_treat]\r\n",
        "\r\n",
        "z_stat, p_value = proportions_ztest(successes, nobs=nobs)\r\n",
        "(lower_con, lower_treat), (upper_con, upper_treat) = proportion_confint(successes, nobs=nobs, alpha=0.05)\r\n",
        "\r\n",
        "print('z statistic:', z_stat)\r\n",
        "print('p-value:', p_value)\r\n",
        "print('95% доверительный интервал для контрольной группы: [{:.4f}, {:.4f}]'.format(lower_con, upper_con))\r\n",
        "print('95% доверительный интервал для эксперементальной группы: [{:.4f}, {:.4f}]'.format(lower_treat, upper_treat))"
      ],
      "execution_count": null,
      "outputs": [
        {
          "output_type": "stream",
          "text": [
            "z statistic: 1.3109241984234394\n",
            "p-value: 0.18988337448195103\n",
            "95% доверительный интервал для контрольной группы: [0.1187, 0.1221]\n",
            "95% доверительный интервал для эксперементальной группы: [0.1171, 0.1205]\n"
          ],
          "name": "stdout"
        }
      ]
    },
    {
      "cell_type": "markdown",
      "metadata": {
        "id": "rh0WoGlucrY0"
      },
      "source": [
        "p-value также больше α. Не можем отклонить нулевую гипотезу. Кроме того, базовое значение коэфициента конверсии 11.8% входит в доверительный интервал для эксперементальной группы"
      ]
    },
    {
      "cell_type": "markdown",
      "metadata": {
        "id": "7vg1PZFaS25G"
      },
      "source": [
        "# Байесовский подход"
      ]
    },
    {
      "cell_type": "code",
      "metadata": {
        "colab": {
          "base_uri": "https://localhost:8080/"
        },
        "id": "lEccDVhgTDeJ",
        "outputId": "1c03cd88-ee1e-4301-c8b3-c10af87a8031"
      },
      "source": [
        "from scipy.stats import beta\r\n",
        "import numpy as np\r\n",
        "\r\n",
        "from math import lgamma\r\n",
        "from numba import jit\r\n",
        "\r\n",
        "#defining the functions used\r\n",
        "@jit\r\n",
        "def h(a, b, c, d):\r\n",
        "    num = lgamma(a + c) + lgamma(b + d) + lgamma(a + b) + lgamma(c + d)\r\n",
        "    den = lgamma(a) + lgamma(b) + lgamma(c) + lgamma(d) + lgamma(a + b + c + d)\r\n",
        "    return np.exp(num - den)\r\n",
        "\r\n",
        "@jit\r\n",
        "def g0(a, b, c):    \r\n",
        "    return np.exp(lgamma(a + b) + lgamma(a + c) - (lgamma(a + b + c) + lgamma(a)))\r\n",
        "\r\n",
        "@jit\r\n",
        "def hiter(a, b, c, d):\r\n",
        "    while d > 1:\r\n",
        "        d -= 1\r\n",
        "        yield h(a, b, c, d) / d\r\n",
        "\r\n",
        "def g(a, b, c, d):\r\n",
        "    return g0(a, b, c) + sum(hiter(a, b, c, d))\r\n",
        "\r\n",
        "def calc_prob_between(beta1, beta2):\r\n",
        "    return g(beta1.args[0], beta1.args[1], beta2.args[0], beta2.args[1])\r\n",
        "\r\n",
        "\r\n",
        "n_con = control.converted.count()\r\n",
        "n_treat = treatment.converted.count()\r\n",
        "\r\n",
        "#Создаем две бета-функции для контрольной и эксперементальной группы\r\n",
        "a_c, b_c = control_click+1, n_con-control_click+1\r\n",
        "beta_c = beta(a_c, b_c)\r\n",
        "a_t, b_t = treatment_click+1, n_treat-treatment_click+1\r\n",
        "beta_t = beta(a_t, b_t)\r\n",
        "\r\n",
        "#смотрим насколько выше конверсия для тестовой группы, чем для контрольной:\r\n",
        "lift=(beta_t.mean()-beta_c.mean())/beta_c.mean()\r\n",
        "\r\n",
        "#рассчитываем вероятность того, что эксперементальная группа лучше контрольной\r\n",
        "prob=calc_prob_between(beta_t, beta_t)\r\n",
        "\r\n",
        "print ('конверсия в эксперементальной группе изменится на {:.2%} с {:.2%} вероятностью'.format(lift, prob))"
      ],
      "execution_count": null,
      "outputs": [
        {
          "output_type": "stream",
          "text": [
            "конверсия в эксперементальной группе изменится на -1.31% с 50.00% вероятностью\n"
          ],
          "name": "stdout"
        }
      ]
    }
  ]
}